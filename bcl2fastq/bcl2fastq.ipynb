{
 "cells": [
  {
   "cell_type": "code",
   "execution_count": 25,
   "metadata": {},
   "outputs": [],
   "source": [
    "import firecloud.api as fapi\n",
    "import pandas as pd\n",
    "import csv\n",
    "import os\n",
    "\n",
    "bucket = \"fc-secure-d99fbd65-eb27-4989-95b4-4cf559aa7d36\"\n",
    "bcl_root = f\"gs://{bucket}/bcls\"\n",
    "samplesheet_root = f\"gs://{bucket}/samplesheets\"\n",
    "fastqs_root = f\"gs://{bucket}/fastqs\"\n",
    "\n",
    "indexes_root = \"https://raw.githubusercontent.com/MacoskoLab/Macosko-Pipelines/main/tools/indexes/\"\n",
    "NN = pd.read_csv(indexes_root+\"SI-NN.csv\")\n",
    "NT = pd.read_csv(indexes_root+\"SI-NT.csv\")\n",
    "TT = pd.read_csv(indexes_root+\"SI-TT.csv\")\n",
    "ND = pd.read_csv(indexes_root+\"ND7.csv\")"
   ]
  },
  {
   "cell_type": "code",
   "execution_count": 9,
   "metadata": {},
   "outputs": [],
   "source": [
    "def dict2csv(indexes):\n",
    "    with open('single.csv', 'w', newline='') as f1, open('dual.csv', 'w', newline='') as f2:\n",
    "        single = csv.writer(f1)\n",
    "        single.writerow([\"[Data]\"])\n",
    "        single.writerow([\"Sample_ID\", \"index\", \"Lane\"])\n",
    "        \n",
    "        dual = csv.writer(f2)\n",
    "        dual.writerow([\"[Data]\"])\n",
    "        dual.writerow([\"Sample_ID\", \"index\", \"index2\", \"Lane\"])\n",
    "        \n",
    "        for lane in sorted(indexes.keys()):\n",
    "            for index in indexes[lane]:\n",
    "                if index in ND[\"I7_Index_ID\"].values:\n",
    "                    match = ND.loc[ND['I7_Index_ID'] == index,:]\n",
    "                    single.writerow([index, match[\"index\"].values[0], lane])\n",
    "                elif index in TT[\"index_name\"].values:\n",
    "                    match = TT.loc[TT['index_name'] == index,:]\n",
    "                    dual.writerow([index, match[\"index(i7)\"].values[0], match[\"index2_workflow_b(i5)\"].values[0], lane])\n",
    "                elif index in NT[\"index_name\"].values:\n",
    "                    match = NT.loc[NT['index_name'] == index,:]\n",
    "                    dual.writerow([index, match[\"index(i7)\"].values[0], match[\"index2_workflow_b(i5)\"].values[0], lane])\n",
    "                elif index in NN[\"index_name\"].values:\n",
    "                    match = NN.loc[NN['index_name'] == index,:]\n",
    "                    dual.writerow([index, match[\"index(i7)\"].values[0], match[\"index2_workflow_b(i5)\"].values[0], lane])\n",
    "                else:\n",
    "                    raise IndexError(f\"ERROR: index {index} not found\")\n",
    "                    \n",
    "def upload(bcl, samplesheet_root=samplesheet_root):\n",
    "    if sum(1 for _ in open(\"single.csv\")) > 2:\n",
    "        !gsutil cp single.csv {samplesheet_root+'/'+bcl}\n",
    "    if sum(1 for _ in open(\"dual.csv\")) > 2:\n",
    "        !gsutil cp dual.csv {samplesheet_root+'/'+bcl}\n",
    "\n",
    "def submit():\n",
    "    res = fapi.validate_config(\"testmybroad\", \"Macosko-Pipelines\", \"macosko-pipelines\", \"bcl2fastq\").json()\n",
    "    assert res[\"extraInputs\"] == [], f\"ERROR: extra input: \\n{res['extraInputs']}\"\n",
    "    assert res[\"invalidInputs\"] == {}, f\"ERROR: invalid input: \\n{res['invalidInputs']}\"\n",
    "    assert res[\"invalidOutputs\"] == {}, f\"ERROR: invalid output: \\n{res['invalidOutputs']}\"\n",
    "    assert res[\"missingInputs\"] == [], f\"ERROR: missing input: \\n{res['missingInputs']}\"\n",
    "    fapi.create_submission(\"testmybroad\", \"Macosko-Pipelines\", \"macosko-pipelines\", \"bcl2fastq\").json()\n",
    "\n",
    "\n",
    "def run(bcl, sheet):\n",
    "    body = fapi.get_workspace_config(\"testmybroad\", \"Macosko-Pipelines\", \"macosko-pipelines\", \"bcl2fastq\").json()  \n",
    "    body[\"inputs\"][\"bcl2fastq.technique\"] = '\"bcl2fastq\"'\n",
    "    body[\"inputs\"][\"bcl2fastq.bcl\"] = f'\"{bcl_root}/{bcl}\"'\n",
    "    body[\"inputs\"][\"bcl2fastq.samplesheet\"] = f'\"{samplesheet_root}/{bcl}/{sheet}\"'\n",
    "    fapi.update_workspace_config(\"testmybroad\", \"Macosko-Pipelines\", \"macosko-pipelines\", \"bcl2fastq\", body).json()\n",
    "    submit()\n",
    "    print(f\"Submitted {sheet} for {bcl}\")"
   ]
  },
  {
   "cell_type": "code",
   "execution_count": 86,
   "metadata": {},
   "outputs": [],
   "source": [
    "bcl = \"240609_SL-EXC_0308_A22KHFYLT3\"\n",
    "indexes = {\n",
    "    1: [\"D702\", \"D703\", \"D706\", \"D707\", \"SI-TT-C6\"],\n",
    "    2: [\"D702\", \"D703\", \"D706\", \"D707\", \"SI-TT-C6\"],\n",
    "    3: [\"D702\", \"D703\", \"D706\", \"D707\", \"SI-TT-C6\"],\n",
    "    4: [\"D702\", \"D703\", \"D706\", \"D707\", \"SI-TT-C6\"],\n",
    "    5: [\"D702\", \"D707\", \"SI-TT-A12\"],\n",
    "    6: [],\n",
    "    7: [],\n",
    "    8: []\n",
    "}"
   ]
  },
  {
   "cell_type": "code",
   "execution_count": 85,
   "metadata": {
    "scrolled": false
   },
   "outputs": [],
   "source": [
    "bcl = \"240615_SL-EXG_0144_A22KH5WLT3\"\n",
    "indexes = {\n",
    "    1: [\"D703\", \"D704\", \"D705\", \"D706\", \"SI-TT-B4\", \"SI-TT-B5\", \"SI-TT-B6\", \"SI-TT-C3\", \"SI-TT-C4\", \"SI-TT-C5\", \"SI-TT-C7\"],\n",
    "    2: [\"D703\", \"D704\", \"D705\", \"D706\", \"SI-TT-B4\", \"SI-TT-B5\", \"SI-TT-B6\", \"SI-TT-C3\", \"SI-TT-C4\", \"SI-TT-C5\", \"SI-TT-C7\"],\n",
    "    3: [\"D703\", \"D704\", \"D705\", \"D706\", \"SI-TT-B4\", \"SI-TT-B5\", \"SI-TT-B6\", \"SI-TT-C3\", \"SI-TT-C4\", \"SI-TT-C5\", \"SI-TT-C7\"],\n",
    "    4: [\"D703\", \"D704\", \"D705\", \"D706\", \"SI-TT-B4\", \"SI-TT-B5\", \"SI-TT-B6\", \"SI-TT-C3\", \"SI-TT-C4\", \"SI-TT-C5\", \"SI-TT-C7\"],\n",
    "    5: [\"D703\", \"D704\", \"D705\", \"D706\", \"SI-TT-B4\", \"SI-TT-B5\", \"SI-TT-B6\", \"SI-TT-C3\", \"SI-TT-C4\", \"SI-TT-C5\", \"SI-TT-C7\"],\n",
    "    6: [\"D703\", \"D704\", \"D705\", \"D706\", \"SI-TT-B4\", \"SI-TT-B5\", \"SI-TT-B6\", \"SI-TT-C3\", \"SI-TT-C4\", \"SI-TT-C5\", \"SI-TT-C7\"],\n",
    "    7: [],\n",
    "    8: []\n",
    "}"
   ]
  },
  {
   "cell_type": "code",
   "execution_count": null,
   "metadata": {},
   "outputs": [],
   "source": []
  },
  {
   "cell_type": "code",
   "execution_count": 12,
   "metadata": {},
   "outputs": [],
   "source": [
    "# Create the samplesheet\n",
    "dict2csv(indexes)\n",
    "#!cat single.csv\n",
    "#!cat dual.csv\n",
    "# upload(bcl)"
   ]
  },
  {
   "cell_type": "code",
   "execution_count": 7,
   "metadata": {},
   "outputs": [],
   "source": [
    "# Submit jobs\n",
    "#run(bcl, \"single.csv\")\n",
    "#run(bcl, \"dual.csv\")"
   ]
  },
  {
   "cell_type": "code",
   "execution_count": 87,
   "metadata": {},
   "outputs": [
    {
     "name": "stdout",
     "output_type": "stream",
     "text": [
      "1 D702 ['5.38 GiB', '4.48 GiB'] \n",
      "1 D703 ['4.92 GiB', '4.31 GiB'] \n",
      "1 D706 ['8.47 GiB', '7.4 GiB'] \n",
      "1 D707 ['3.45 GiB', '3.83 GiB'] \n",
      "1 SI-TT-C6 ['49.78 GiB', '52.34 GiB'] \n",
      "2 D702 ['5.22 GiB', '4.39 GiB'] \n",
      "2 D703 ['4.76 GiB', '4.2 GiB'] \n",
      "2 D706 ['7.28 GiB', '6.23 GiB'] \n",
      "2 D707 ['3.15 GiB', '3.55 GiB'] \n",
      "2 SI-TT-C6 ['42.52 GiB', '44.91 GiB'] \n",
      "3 D702 ['5.23 GiB', '4.42 GiB'] \n",
      "3 D703 ['4.81 GiB', '4.26 GiB'] \n",
      "3 D706 ['10.31 GiB', '9.43 GiB'] \n",
      "3 D707 ['3.31 GiB', '3.72 GiB'] \n",
      "3 SI-TT-C6 ['36.5 GiB', '38.45 GiB'] \n",
      "4 D702 ['5.29 GiB', '4.4 GiB'] \n",
      "4 D703 ['4.83 GiB', '4.23 GiB'] \n",
      "4 D706 ['8.61 GiB', '7.55 GiB'] \n",
      "4 D707 ['3.24 GiB', '3.6 GiB'] \n",
      "4 SI-TT-C6 ['36.33 GiB', '38.1 GiB'] \n",
      "5 D702 ['14.48 GiB', '14.69 GiB'] \n",
      "5 D707 ['33.79 GiB', '32.44 GiB'] \n",
      "5 SI-TT-A12 ['273.07 MiB', '258.85 MiB'] \n"
     ]
    }
   ],
   "source": [
    "# Check the FASTQ sizes\n",
    "sizes = !gsutil du -h {fastqs_root}/{bcl}\n",
    "sizes = [size.split() for size in sizes]\n",
    "sizes = [(size[0]+\" \"+size[1], os.path.basename(size[2])) for size in sizes if size[2][-9:] == \".fastq.gz\"]\n",
    "for lane in sorted(indexes.keys()):\n",
    "    for index in indexes[lane]:\n",
    "        res = [size[0] for size in sizes if f\"{index}_S\" in size[1] and f\"_L00{lane}_\" in size[1]]\n",
    "        warning = \"WARNING!\" if any(\" B\" in s or \" KiB\" in s for s in res) or len(res) == 0 else \"\"\n",
    "        print(f\"{lane} {index} {res} {warning}\")"
   ]
  },
  {
   "cell_type": "markdown",
   "metadata": {},
   "source": [
    " "
   ]
  },
  {
   "cell_type": "code",
   "execution_count": 21,
   "metadata": {},
   "outputs": [
    {
     "name": "stdout",
     "output_type": "stream",
     "text": [
      "[]\n"
     ]
    }
   ],
   "source": [
    "# List all bcl2fastq submissions\n",
    "subs = fapi.list_submissions(\"testmybroad\", \"Macosko-Pipelines\").json()\n",
    "subs = [sub for sub in subs if sub[\"status\"] not in [\"Done\",\"Aborted\"]]\n",
    "subs = [sub for sub in subs if sub[\"methodConfigurationName\"].split(\"_\")[0]==\"bcl2fastq\"]\n",
    "print(subs)"
   ]
  },
  {
   "cell_type": "code",
   "execution_count": null,
   "metadata": {},
   "outputs": [],
   "source": [
    "# Abort bcl2fastq submissions\n",
    "ids = [sub[\"submissionId\"] for sub in subs]\n",
    "[fapi.abort_submission(\"testmybroad\", \"Macosko-Pipelines\", submission_id) for submission_id in ids]"
   ]
  }
 ],
 "metadata": {
  "kernelspec": {
   "display_name": "Python 3",
   "language": "python",
   "name": "python3"
  },
  "language_info": {
   "codemirror_mode": {
    "name": "ipython",
    "version": 3
   },
   "file_extension": ".py",
   "mimetype": "text/x-python",
   "name": "python",
   "nbconvert_exporter": "python",
   "pygments_lexer": "ipython3",
   "version": "3.10.12"
  },
  "toc": {
   "base_numbering": 1,
   "nav_menu": {},
   "number_sections": true,
   "sideBar": true,
   "skip_h1_title": false,
   "title_cell": "Table of Contents",
   "title_sidebar": "Contents",
   "toc_cell": false,
   "toc_position": {},
   "toc_section_display": true,
   "toc_window_display": false
  }
 },
 "nbformat": 4,
 "nbformat_minor": 2
}
