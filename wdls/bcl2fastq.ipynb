{
 "cells": [
  {
   "cell_type": "code",
   "execution_count": 1,
   "metadata": {},
   "outputs": [],
   "source": [
    "import firecloud.api as fapi\n",
    "import pandas as pd\n",
    "import csv\n",
    "import os\n",
    "\n",
    "bucket = \"fc-secure-d99fbd65-eb27-4989-95b4-4cf559aa7d36\"\n",
    "bcl_root = f\"gs://{bucket}/bcls\"\n",
    "samplesheet_root = f\"gs://{bucket}/samplesheets\"\n",
    "fastqs_root = f\"gs://{bucket}/fastqs\"\n",
    "\n",
    "namespace = \"testmybroad\"\n",
    "workspace = \"Macosko-Pipelines\"\n",
    "cnamespace = \"macosko-pipelines\"\n",
    "\n",
    "indexes_root = \"https://raw.githubusercontent.com/MacoskoLab/Macosko-Pipelines/main/bcl2fastq/indexes/\"\n",
    "NN = pd.read_csv(indexes_root+\"SI-NN.csv\")\n",
    "NT = pd.read_csv(indexes_root+\"SI-NT.csv\")\n",
    "TT = pd.read_csv(indexes_root+\"SI-TT.csv\")\n",
    "ND = pd.read_csv(indexes_root+\"ND7.csv\")"
   ]
  },
  {
   "cell_type": "code",
   "execution_count": 2,
   "metadata": {},
   "outputs": [],
   "source": [
    "def dict2csv(indexes, s=8, d=10):\n",
    "    with open('single.csv', 'w', newline='') as f1, open('dual.csv', 'w', newline='') as f2:\n",
    "        single = csv.writer(f1)\n",
    "        single.writerow([\"[Data]\"])\n",
    "        single.writerow([\"Sample_ID\", \"index\", \"Lane\"])\n",
    "        \n",
    "        dual = csv.writer(f2)\n",
    "        dual.writerow([\"[Data]\"])\n",
    "        dual.writerow([\"Sample_ID\", \"index\", \"index2\", \"Lane\"])\n",
    "        \n",
    "        for lane in sorted(indexes.keys()):\n",
    "            for index in indexes[lane]:\n",
    "                if index in ND[\"I7_Index_ID\"].values:\n",
    "                    seq = ND.loc[ND['I7_Index_ID'] == index,:][\"index\"].values[0]\n",
    "                    single.writerow([index, seq[:s], lane])\n",
    "                elif index in TT[\"index_name\"].values:\n",
    "                    match = TT.loc[TT['index_name'] == index,:]\n",
    "                    seq1 = match[\"index(i7)\"].values[0]\n",
    "                    seq2 = match[\"index2_workflow_b(i5)\"].values[0]\n",
    "                    dual.writerow([index, seq1[:d], seq2[:d], lane])\n",
    "                elif index in NT[\"index_name\"].values:\n",
    "                    match = NT.loc[NT['index_name'] == index,:]\n",
    "                    seq1 = match[\"index(i7)\"].values[0]\n",
    "                    seq2 = match[\"index2_workflow_b(i5)\"].values[0]\n",
    "                    dual.writerow([index, seq1[:d], seq2[:d], lane])\n",
    "                elif index in NN[\"index_name\"].values:\n",
    "                    match = NN.loc[NN['index_name'] == index,:]\n",
    "                    seq1 = match[\"index(i7)\"].values[0]\n",
    "                    seq2 = match[\"index2_workflow_b(i5)\"].values[0]\n",
    "                    dual.writerow([index, seq1[:d], seq2[:d], lane])\n",
    "                else:\n",
    "                    raise IndexError(f\"ERROR: index {index} not found\")\n",
    "    \n",
    "    df = pd.read_csv(\"single.csv\", skiprows=1)\n",
    "    assert len(df) == len(df.drop_duplicates())\n",
    "    \n",
    "    df = pd.read_csv(\"dual.csv\", skiprows=1)\n",
    "    assert len(df) == len(df.drop_duplicates())\n",
    "                    \n",
    "def upload(bcl, samplesheet_root=samplesheet_root):\n",
    "    if sum(1 for _ in open(\"single.csv\")) > 2:\n",
    "        !gsutil cp single.csv {samplesheet_root}/{bcl}/single.csv\n",
    "    if sum(1 for _ in open(\"dual.csv\")) > 2:\n",
    "        !gsutil cp dual.csv {samplesheet_root}/{bcl}/dual.csv\n",
    "\n",
    "def run(bcl, sheet, params = \"\"):\n",
    "    # Update the configuration\n",
    "    body = fapi.get_workspace_config(namespace, workspace, cnamespace, \"bcl2fastq\").json()  \n",
    "    body[\"inputs\"][\"bcl2fastq.technique\"] = '\"bcl2fastq\"'\n",
    "    body[\"inputs\"][\"bcl2fastq.bcl\"] = f'\"{bcl_root}/{bcl}\"'\n",
    "    body[\"inputs\"][\"bcl2fastq.samplesheet\"] = f'\"{samplesheet_root}/{bcl}/{sheet}\"'\n",
    "    body[\"inputs\"][\"bcl2fastq.params\"] = f'\"{params}\"'\n",
    "    fapi.update_workspace_config(namespace, workspace, cnamespace, \"bcl2fastq\", body).json()\n",
    "    \n",
    "    # Validate the configuration\n",
    "    res = fapi.validate_config(\"testmybroad\", \"Macosko-Pipelines\", \"macosko-pipelines\", \"bcl2fastq\").json()\n",
    "    assert res[\"extraInputs\"] == [], f\"ERROR: extra input: \\n{res['extraInputs']}\"\n",
    "    assert res[\"invalidInputs\"] == {}, f\"ERROR: invalid input: \\n{res['invalidInputs']}\"\n",
    "    assert res[\"invalidOutputs\"] == {}, f\"ERROR: invalid output: \\n{res['invalidOutputs']}\"\n",
    "    assert res[\"missingInputs\"] == [], f\"ERROR: missing input: \\n{res['missingInputs']}\"\n",
    "    \n",
    "    # Submit the job\n",
    "    fapi.create_submission(namespace, workspace, cnamespace, \"bcl2fastq\", user_comment=f\"{sheet} {bcl}\").json()\n",
    "    \n",
    "    print(f\"Submitted {sheet} for {bcl}\")"
   ]
  },
  {
   "cell_type": "code",
   "execution_count": 10,
   "metadata": {},
   "outputs": [],
   "source": [
    "# Upload the samplesheet\n",
    "!cat single.csv\n",
    "!cat dual.csv\n",
    "upload(bcl)"
   ]
  },
  {
   "cell_type": "code",
   "execution_count": 4,
   "metadata": {},
   "outputs": [],
   "source": [
    "# Submit jobs\n",
    "run(bcl, \"single.csv\")\n",
    "run(bcl, \"dual.csv\")"
   ]
  },
  {
   "cell_type": "code",
   "execution_count": 6,
   "metadata": {},
   "outputs": [],
   "source": [
    "# Check the FASTQ sizes\n",
    "print(bcl)\n",
    "sizes = !gsutil du -h {fastqs_root}/{bcl}\n",
    "sizes = [size.split() for size in sizes]\n",
    "sizes = [(size[0]+\" \"+size[1], os.path.basename(size[2])) for size in sizes if size[2][-9:] == \".fastq.gz\"]\n",
    "for lane in sorted(indexes.keys()):\n",
    "    for index in indexes[lane]:\n",
    "        res = [size[0] for size in sizes if f\"{index}_S\" in size[1] and f\"_L00{lane}_\" in size[1]]\n",
    "        warning = \"WARNING!!\" if any(\" B\" in s or \" KiB\" in s or \"MiB\" in s for s in res) or len(res) == 0 else \"\"\n",
    "        print(f\"{lane} {index} {res} {warning}\")"
   ]
  },
  {
   "cell_type": "code",
   "execution_count": null,
   "metadata": {},
   "outputs": [],
   "source": [
    "# List all bcl2fastq submissions\n",
    "subs = fapi.list_submissions(\"testmybroad\", \"Macosko-Pipelines\").json()\n",
    "subs = [sub for sub in subs if sub[\"status\"] not in [\"Done\", \"Aborted\"]]\n",
    "subs = [sub for sub in subs if sub[\"methodConfigurationName\"].split(\"_\")[0]==\"bcl2fastq\"]\n",
    "[print(sub) for sub in subs]"
   ]
  },
  {
   "cell_type": "code",
   "execution_count": null,
   "metadata": {},
   "outputs": [],
   "source": [
    "# Abort bcl2fastq submissions\n",
    "ids = [sub[\"submissionId\"] for sub in subs]\n",
    "[fapi.abort_submission(\"testmybroad\", \"Macosko-Pipelines\", submission_id) for submission_id in ids]"
   ]
  }
 ],
 "metadata": {
  "kernelspec": {
   "display_name": "Python 3",
   "language": "python",
   "name": "python3"
  },
  "language_info": {
   "codemirror_mode": {
    "name": "ipython",
    "version": 3
   },
   "file_extension": ".py",
   "mimetype": "text/x-python",
   "name": "python",
   "nbconvert_exporter": "python",
   "pygments_lexer": "ipython3",
   "version": "3.10.12"
  },
  "toc": {
   "base_numbering": 1,
   "nav_menu": {},
   "number_sections": true,
   "sideBar": true,
   "skip_h1_title": false,
   "title_cell": "Table of Contents",
   "title_sidebar": "Contents",
   "toc_cell": false,
   "toc_position": {},
   "toc_section_display": true,
   "toc_window_display": false
  }
 },
 "nbformat": 4,
 "nbformat_minor": 2
}
