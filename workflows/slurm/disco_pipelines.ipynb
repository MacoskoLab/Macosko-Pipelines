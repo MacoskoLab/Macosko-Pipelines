{
 "cells": [
  {
   "cell_type": "code",
   "execution_count": 2,
   "id": "f6a39881-57c0-4277-96d7-5097671a4165",
   "metadata": {},
   "outputs": [],
   "source": [
    "import os\n",
    "import re\n",
    "root = \"/broad/macosko/pipelines\"\n",
    "\n",
    "def podman_sbatch_wrapper(command, logpath, jobname, mem, cpus=8, time=\"24:00:00\"):\n",
    "    assert \"'\" not in command and '\"' not in command # can they be escaped?\n",
    "    \n",
    "    podman_command = f\"podman run --rm --init --pull never -v {root}:{root}:rw pipeline-image '{command}'\"\n",
    "    sbatch_params = f\"-C container -o {logpath} -J {jobname} \\\n",
    "                      --mem {mem} -c {cpus} -t {time} \\\n",
    "                      --mail-user macosko-pipelines@broadinstitute.org --mail-type END,FAIL,REQUEUE,INVALID_DEPEND,STAGE_OUT,TIME_LIMIT\"\n",
    "    if int(mem[:-1]) > 500:\n",
    "        sbatch_params = \"--partition=hpcx_macosko \" + sbatch_params\n",
    "    cmd = f'sbatch {sbatch_params} --wrap \"{podman_command}\"'\n",
    "    \n",
    "    return(cmd)"
   ]
  },
  {
   "cell_type": "code",
   "execution_count": 3,
   "id": "7fbd1c49-87ea-49c5-b799-20dc8907bb0c",
   "metadata": {},
   "outputs": [],
   "source": [
    "def compute_fastq_size(bcl, regex, mult):\n",
    "    fastq_path = f'/broad/macosko/pipelines/fastqs/{bcl}'\n",
    "    assert os.path.isdir(fastq_path)\n",
    "    fastqs = [os.path.join(fastq_path, f) for f in os.listdir(fastq_path)]\n",
    "    fastqs = [fastq for fastq in fastqs if fastq.endswith(\".fastq.gz\")]\n",
    "    fastqs = [fastq for fastq in fastqs if re.compile(regex).search(fastq)]\n",
    "    assert len(fastqs) >= 2\n",
    "    fastq_size_bytes = sum(os.path.getsize(fastq) for fastq in fastqs)\n",
    "    mult_size_gb = round(fastq_size_bytes/1024/1024/1024 * mult)\n",
    "    mem_size = f\"{max(16,mult_size_gb)}G\"\n",
    "    return mem_size"
   ]
  },
  {
   "cell_type": "markdown",
   "id": "6c152c28-b4ac-4058-b982-904fd7ef5e71",
   "metadata": {},
   "source": [
    "### Pipeline methods"
   ]
  },
  {
   "cell_type": "code",
   "execution_count": 4,
   "id": "4a20f0c9-c5f7-49f2-aa61-eee49ca6596e",
   "metadata": {},
   "outputs": [],
   "source": [
    "# TODO: add support for variable lanes (--lanes)\n",
    "# # https://www.10xgenomics.com/support/software/cell-ranger/latest/resources/cr-command-line-arguments\n",
    "def cellranger_count(bcl, index, transcriptome, chemistry=\"auto\"):\n",
    "    assert bcl in os.listdir(\"/broad/macosko/pipelines/fastqs\")\n",
    "    assert transcriptome in os.listdir(\"/broad/macosko/pipelines/references\")\n",
    "    if os.path.isdir(f'/broad/macosko/pipelines/cellranger-count/{bcl}/{index}'):\n",
    "        print(\"Output already exists, run this command:\")\n",
    "        print(f\"rm -rf /broad/macosko/pipelines/cellranger-count/{bcl}/{index}\")\n",
    "        assert False\n",
    "    cmd = f\"/broad/macosko/pipelines/scripts/cellranger-count.sh {bcl} {index} {transcriptome} {chemistry}\"\n",
    "    print(cmd)"
   ]
  },
  {
   "cell_type": "code",
   "execution_count": 5,
   "id": "0f2b50e1-674e-435f-b257-110a7b3926a7",
   "metadata": {},
   "outputs": [],
   "source": [
    "def recon_count(bcl, index, lane=0, bc1=0, bc2=0, p=1.0):\n",
    "    assert bcl in os.listdir(\"/broad/macosko/pipelines/fastqs\")\n",
    "    assert not re.search(r\"\\s\", bcl)\n",
    "    assert not re.search(r\"\\s\", index)\n",
    "    assert isinstance(lane, int) and 0 <= lane <= 8 # 0 means all lanes\n",
    "    assert type(bc1) == type(bc2) == int\n",
    "    assert 0 < p <= 1\n",
    "    \n",
    "    regex = rf\"{index}.*\" + (rf\"_L00{lane}_.*\" if lane > 0 else \"\")\n",
    "    name = f\"{index}\" + (f\"-{lane}\" if lane > 0 else \"\") + (f\"_p-{p}\" if p<1 else \"\") + (f\"_bc1-{bc1}\" if bc1 > 0 else \"\") + (f\"_bc2-{bc2}\" if bc2 > 0 else \"\")\n",
    "    out_dir = f\"{root}/recon/{bcl}/{name}\"\n",
    "    log_dir = f\"{root}/logs/{bcl}/{name}\"\n",
    "    \n",
    "    # Get the size of the fastqs\n",
    "    mem = compute_fastq_size(bcl, regex, 2)\n",
    "    \n",
    "    # Create the sbatch command\n",
    "    julia_command = f\"julia --threads 8 --heap-size-hint={mem} {root}/scripts/recon-count.jl {root}/fastqs/{bcl} {out_dir} -r {regex} -p {p} -x {bc1} -y {bc2}\"\n",
    "    python_command = f\"micromamba run python {root}/scripts/knn.py -i {out_dir} -o {out_dir} -n 150 -b 2 -c 8 -k 2\"\n",
    "    command = f\"{julia_command} ; {python_command}\"\n",
    "    \n",
    "    cmd = podman_sbatch_wrapper(command,\n",
    "                                logpath = f\"{log_dir}/recon-count.log\",\n",
    "                                jobname = f\"recon-count-{bcl}-{name}\",\n",
    "                                mem=mem, cpus=8, time=\"24:00:00\")\n",
    "\n",
    "    os.makedirs(out_dir, exist_ok=True)\n",
    "    os.makedirs(log_dir, exist_ok=True)\n",
    "    return(cmd)"
   ]
  },
  {
   "cell_type": "code",
   "execution_count": 6,
   "id": "b752ca66-c460-434b-a364-fa9b2e6ee591",
   "metadata": {},
   "outputs": [],
   "source": [
    "def recon(bcl, index, lane=0, bc1=0, bc2=0, p=1.0, n_neighbors=45, local_connectivity=1, spread=1, min_dist=0.1, n_epochs=1500):\n",
    "    assert bcl in os.listdir(\"/broad/macosko/pipelines/fastqs\")\n",
    "    assert not re.search(r\"\\s\", bcl)\n",
    "    assert not re.search(r\"\\s\", index)\n",
    "    assert isinstance(lane, int) and 0 <= lane <= 8 # 0 means all lanes\n",
    "    assert type(bc1) == type(bc2) == int\n",
    "    assert 0 < p <= 1\n",
    "    \n",
    "    name = f\"{index}\" + (f\"-{lane}\" if lane > 0 else \"\") + (f\"_p-{p}\" if p<1 else \"\") + (f\"_bc1-{bc1}\" if bc1 > 0 else \"\") + (f\"_bc2-{bc2}\" if bc2 > 0 else \"\")\n",
    "    in_dir = f\"{root}/recon/{bcl}/{name}\"\n",
    "    out_dir = f\"{root}/recon/{bcl}/{name}\"\n",
    "    log_dir = f\"{root}/logs/{bcl}/{name}\"\n",
    "    assert os.path.isdir(in_dir)\n",
    "\n",
    "    matrix_gb = os.path.getsize(f\"{in_dir}/matrix.csv.gz\")/1024/1024/1024\n",
    "    mem = f\"{round(max(matrix_gb*25,16))}G\"\n",
    "\n",
    "    python_command = f\"micromamba run python {root}/scripts/recon.py -i {in_dir} -o {out_dir} -c 8 -b 2 -nn {n_neighbors} -lc {local_connectivity} -ne {n_epochs} -s {spread} -md {min_dist}\"\n",
    "    cmd = podman_sbatch_wrapper(python_command,\n",
    "                                logpath = f\"{log_dir}/recon.log\",\n",
    "                                jobname = f\"recon-{bcl}-{name}\",\n",
    "                                mem=mem, cpus=8, time=\"72:00:00\")\n",
    "    \n",
    "    os.makedirs(out_dir, exist_ok=True)\n",
    "    os.makedirs(log_dir, exist_ok=True)\n",
    "    return(cmd)"
   ]
  },
  {
   "cell_type": "code",
   "execution_count": 7,
   "id": "96480cf4-0148-4494-91f4-a3e8295c3a15",
   "metadata": {},
   "outputs": [],
   "source": [
    "# TODO: Multiple pucks\n",
    "def spatial_count(bcl, index, puck_dir, p=1.0):\n",
    "    assert bcl in os.listdir(\"/broad/macosko/pipelines/fastqs\")    \n",
    "    assert not re.search(r\"\\s\", bcl)\n",
    "    assert not re.search(r\"\\s\", index)\n",
    "    assert not re.search(r\"\\s\", puck_dir)\n",
    "    assert 0 < p <= 1\n",
    "    \n",
    "    # Get the size of the fastqs\n",
    "    mem_size = compute_fastq_size(bcl, index, 1.5)\n",
    "\n",
    "    # Create the sbatch command\n",
    "    out_dir = f\"{index}\" + (f\"_p-{p}\" if p<1 else \"\")\n",
    "    julia_command = f\"julia --heap-size-hint={mem_size} {root}/scripts/spatial-count.jl {root}/fastqs/{bcl} {puck_dir} {root}/spatial-count/{bcl}/{out_dir} -r {index} -p {p}\"\n",
    "    sbatch_params = f\"--nodelist=slurm-bits-d[002-005] -C container -o {root}/logs/{bcl}/{out_dir}/spatial-count.log -J spatial-count-{bcl}-{index} \\\n",
    "                      -c 9 --mem {mem_size} --time 24:00:00 \\\n",
    "                      --mail-user macosko-pipelines@broadinstitute.org --mail-type END,FAIL,REQUEUE,INVALID_DEPEND,STAGE_OUT,TIME_LIMIT\"\n",
    "    q=\"'\"\n",
    "    cmd = f'sbatch {sbatch_params} --wrap \"podman run --rm -v {root}:{root} -v /broad/macosko:/broad/macosko:ro pipeline-image {q}{julia_command}{q}\"'\n",
    "\n",
    "    os.makedirs(f\"{root}/spatial-count/{bcl}/{out_dir}\", exist_ok=True)\n",
    "    os.makedirs(f\"{root}/logs/{bcl}/{out_dir}\", exist_ok=True)\n",
    "    return(cmd)"
   ]
  },
  {
   "cell_type": "markdown",
   "id": "4a53f1ea-5c14-4a32-8c8c-9edad50b341a",
   "metadata": {},
   "source": [
    "### Runs"
   ]
  },
  {
   "cell_type": "code",
   "execution_count": 3,
   "id": "24250b42-e0e1-441d-97e6-73d1cc971d4b",
   "metadata": {},
   "outputs": [
    {
     "ename": "NameError",
     "evalue": "name 'os' is not defined",
     "output_type": "error",
     "traceback": [
      "\u001b[0;31m---------------------------------------------------------------------------\u001b[0m",
      "\u001b[0;31mNameError\u001b[0m                                 Traceback (most recent call last)",
      "Cell \u001b[0;32mIn[3], line 2\u001b[0m\n\u001b[1;32m      1\u001b[0m bcl \u001b[38;5;241m=\u001b[39m \u001b[38;5;124m\"\u001b[39m\u001b[38;5;124m240826_SL-EXF_0202_B22K77GLT3\u001b[39m\u001b[38;5;124m\"\u001b[39m\n\u001b[0;32m----> 2\u001b[0m \u001b[43mrecon\u001b[49m\u001b[43m(\u001b[49m\u001b[43mbcl\u001b[49m\u001b[43m,\u001b[49m\u001b[43m \u001b[49m\u001b[38;5;124;43m\"\u001b[39;49m\u001b[38;5;124;43mD701\u001b[39;49m\u001b[38;5;124;43m\"\u001b[39;49m\u001b[43m)\u001b[49m\n\u001b[1;32m      3\u001b[0m \u001b[38;5;66;03m#recon_count(bcl, \"D701\", bc1=2144886, bc2=4381631)\u001b[39;00m\n",
      "Cell \u001b[0;32mIn[2], line 2\u001b[0m, in \u001b[0;36mrecon\u001b[0;34m(bcl, index, lane, bc1, bc2, p, n_neighbors, local_connectivity, spread, min_dist, n_epochs)\u001b[0m\n\u001b[1;32m      1\u001b[0m \u001b[38;5;28;01mdef\u001b[39;00m \u001b[38;5;21mrecon\u001b[39m(bcl, index, lane\u001b[38;5;241m=\u001b[39m\u001b[38;5;241m0\u001b[39m, bc1\u001b[38;5;241m=\u001b[39m\u001b[38;5;241m0\u001b[39m, bc2\u001b[38;5;241m=\u001b[39m\u001b[38;5;241m0\u001b[39m, p\u001b[38;5;241m=\u001b[39m\u001b[38;5;241m1.0\u001b[39m, n_neighbors\u001b[38;5;241m=\u001b[39m\u001b[38;5;241m45\u001b[39m, local_connectivity\u001b[38;5;241m=\u001b[39m\u001b[38;5;241m1\u001b[39m, spread\u001b[38;5;241m=\u001b[39m\u001b[38;5;241m1\u001b[39m, min_dist\u001b[38;5;241m=\u001b[39m\u001b[38;5;241m0.1\u001b[39m, n_epochs\u001b[38;5;241m=\u001b[39m\u001b[38;5;241m1500\u001b[39m):\n\u001b[0;32m----> 2\u001b[0m     \u001b[38;5;28;01massert\u001b[39;00m bcl \u001b[38;5;129;01min\u001b[39;00m \u001b[43mos\u001b[49m\u001b[38;5;241m.\u001b[39mlistdir(\u001b[38;5;124m\"\u001b[39m\u001b[38;5;124m/broad/macosko/pipelines/fastqs\u001b[39m\u001b[38;5;124m\"\u001b[39m)\n\u001b[1;32m      3\u001b[0m     \u001b[38;5;28;01massert\u001b[39;00m \u001b[38;5;129;01mnot\u001b[39;00m re\u001b[38;5;241m.\u001b[39msearch(\u001b[38;5;124mr\u001b[39m\u001b[38;5;124m\"\u001b[39m\u001b[38;5;124m\\\u001b[39m\u001b[38;5;124ms\u001b[39m\u001b[38;5;124m\"\u001b[39m, bcl)\n\u001b[1;32m      4\u001b[0m     \u001b[38;5;28;01massert\u001b[39;00m \u001b[38;5;129;01mnot\u001b[39;00m re\u001b[38;5;241m.\u001b[39msearch(\u001b[38;5;124mr\u001b[39m\u001b[38;5;124m\"\u001b[39m\u001b[38;5;124m\\\u001b[39m\u001b[38;5;124ms\u001b[39m\u001b[38;5;124m\"\u001b[39m, index)\n",
      "\u001b[0;31mNameError\u001b[0m: name 'os' is not defined"
     ]
    }
   ],
   "source": [
    "bcl = \"240826_SL-EXF_0202_B22K77GLT3\"\n",
    "recon(bcl, \"D701\")\n",
    "#recon_count(bcl, \"D701\", bc1=2144886, bc2=4381631)"
   ]
  },
  {
   "cell_type": "code",
   "execution_count": null,
   "id": "31881c16-70a3-4c80-994f-8778aa2541bb",
   "metadata": {},
   "outputs": [],
   "source": []
  },
  {
   "cell_type": "code",
   "execution_count": 20,
   "id": "8b7576ff-10f8-4611-87cc-4855a31dd327",
   "metadata": {},
   "outputs": [
    {
     "name": "stdout",
     "output_type": "stream",
     "text": [
      "/broad/macosko/data/discopipeline/scripts/cellranger-count.sh 240808_SL-EXC_0341_A22CTCMLT4 SI-TT-C8 refdata-gex-GRCh38-2024-A auto\n"
     ]
    }
   ],
   "source": [
    "bcl = \"240808_SL-EXC_0341_A22CTCMLT4\"\n",
    "cellranger_count(bcl, \"SI-TT-C8\", \"refdata-gex-GRCh38-2024-A\")\n",
    "# COMPLETE"
   ]
  },
  {
   "cell_type": "code",
   "execution_count": 4,
   "id": "c0ec1d30-c7c7-4970-8dfd-c839d8f173c1",
   "metadata": {},
   "outputs": [],
   "source": [
    "bcl = \"240911_SL-EXD_0362_A22FLV2LT4\"\n",
    "#[cellranger_count(bcl, index, \"refdata-gex-GRCh38-2024-A\", chemistry=\"auto\") for index in [\"SI-TT-E\"+str(i+1) for i in range(8)]];"
   ]
  },
  {
   "cell_type": "code",
   "execution_count": 3,
   "id": "241fd136-1842-4f99-8142-966ad1a24466",
   "metadata": {},
   "outputs": [],
   "source": [
    "bcl = \"240923_SL-EXH_0185_B22G7HYLT4\"\n",
    "indexes = [\"D701_S1_L003\", \"D701_S1_L005\", \"D702\", \"D703\", \"D704\", \"D705\", \"D706\", \"D707\", \"D708\", \"D709\", \"D710\"]\n",
    "# [recon_count(bcl, index) for index in indexes];\n",
    "# PROCESSING"
   ]
  },
  {
   "cell_type": "code",
   "execution_count": 2,
   "id": "fa7ed0da-0620-42df-a6d6-10b8e669aec3",
   "metadata": {},
   "outputs": [],
   "source": [
    "bcl = \"241002_SL-EXH_0192_A22NLKLLT3\"\n",
    "# [cellranger_count(bcl, index, \"refdata-gex-GRCh38-2024-A\", chemistry=\"auto\") for index in [\"SI-TT-B9\", \"SI-TT-B10\"]];\n",
    "# spatial_count(bcl, \"SI-TT-G3\", puck_dir, p=1.0)\n",
    "# spatial_count(bcl, \"SI-TT-G4\", puck_dir, p=1.0)"
   ]
  },
  {
   "cell_type": "code",
   "execution_count": 10,
   "id": "a2441154-446b-4dd7-9acc-903c2e8aa9b4",
   "metadata": {},
   "outputs": [],
   "source": [
    "bcl = \"241029_SL-EXF_0249_A22J235LT4\"\n",
    "RNA_indexes = [\"SI-TT-\"+x for x in [\"C8\",\"C9\",\"C10\",\"C11\",\"C12\",\"D9\",\"D10\",\"D11\"]]\n",
    "SB_indexes = [\"SI-TT-\"+x for x in [\"A11\",\"A12\",\"H11\",\"H12\",\"E9\",\"E10\",\"E11\",\"E12\"]]\n",
    "# [cellranger_count(bcl, index, \"refdata-gex-GRCh38-2024-A\", chemistry=\"auto\") for index in RNA_indexes];\n",
    "# [spatial_count(bcl, index, \"recon\") for index in SB_indexes];\n",
    "\n",
    "# [positioning(RNA_bcl, RNA_index, SB_bcl, SB_index) for (RNA_index,SB_index) in zip(RNA_indexes,SB_indexes)]\n"
   ]
  },
  {
   "cell_type": "code",
   "execution_count": 14,
   "id": "3625a8d6-18ae-40aa-b4bb-beead8f1e188",
   "metadata": {},
   "outputs": [],
   "source": [
    "bcl = \"241105_SL-EXH_0206_B22TMH7LT3\"\n",
    "# [recon_count(bcl, index) for index in [\"D701\",\"D702\",\"D703\",\"D704\",\"D707\",\"D708\"]]\n",
    "# for i in [recon(bcl, \"D704\", bc1 = 823752, bc2 = 2471256)]:\n",
    "#     print(i)"
   ]
  },
  {
   "cell_type": "code",
   "execution_count": 5,
   "id": "da4030a7-8a65-4020-8bd9-ebc0553ad3b4",
   "metadata": {},
   "outputs": [],
   "source": [
    "bcl = \"241113_SL-EXH_0210_A22TMFJLT3\"\n",
    "# cellranger_count(bcl, \"SI-TT-H4\", \"refdata-gex-GRCh38-2024-A\")\n",
    "# cellranger_count(bcl, \"SI-TT-H5\", \"refdata-gex-GRCh38-2024-A\")\n",
    "# cellranger_count(bcl, \"SI-TT-H6\", \"refdata-gex-GRCh38-2024-A\")\n",
    "# spatial_count(bcl, \"SI-TT-H1\", \"recon/240716_SL-EXG_0167_B22CG3TLT4/D706-3/UMAP_n=45_d=0.1_I=spectral_c=fulltree45_c1=10-3000_c2=10-3000\")\n",
    "# spatial_count(bcl, \"SI-TT-H2\", \"recon/240716_SL-EXG_0167_B22CG3TLT4/D706-3/UMAP_n=45_d=0.1_I=spectral_c=fulltree45_c1=10-3000_c2=10-3000\")\n",
    "# spatial_count(bcl, \"SI-TT-H3\", \"recon/240716_SL-EXG_0167_B22CG3TLT4/D706-3/UMAP_n=45_d=0.1_I=spectral_c=fulltree45_c1=10-3000_c2=10-3000\")"
   ]
  },
  {
   "cell_type": "code",
   "execution_count": 16,
   "id": "20d739ac-9d41-45c9-9978-2f198292a965",
   "metadata": {},
   "outputs": [],
   "source": [
    "bcl = \"241119_SL-EXJ_0123_B22GLY2LT4\"\n",
    "# recon_count(bcl, \"D702\")"
   ]
  },
  {
   "cell_type": "code",
   "execution_count": 13,
   "id": "ff7ab56f-a450-4db2-b570-016375b81521",
   "metadata": {},
   "outputs": [],
   "source": [
    "bcl = \"241202_SL-EXH_0225_B22J22GLT4\"\n",
    "#[recon_count(bcl, index) for index in [f\"D{j+701}\" for j in range(12)]];"
   ]
  },
  {
   "cell_type": "code",
   "execution_count": 15,
   "id": "0f5c8116-6494-4155-b363-5cf6d00d26fb",
   "metadata": {},
   "outputs": [],
   "source": [
    "bcl = \"241202_SL-EXH_0226_A22HTHWLT4\"\n",
    "#[recon_count(bcl, index) for index in [f\"D{j+701}\" for j in range(12)]];"
   ]
  },
  {
   "cell_type": "code",
   "execution_count": 2,
   "id": "fa2ddacc-1d41-4339-9fb0-7336650c3eee",
   "metadata": {},
   "outputs": [],
   "source": [
    "bcl = \"241213_SL-EXB_0419_A22V35YLT3\"\n",
    "# [cellranger_count(bcl, index, \"refdata-gex-GRCh38-2024-A\") for index in [\"SI-TT-A2\", \"SI-TT-A3\", \"SI-TT-A4\", \"SI-TT-A5\", \"SI-TT-A7\", \"SI-TT-E10\"]]\n",
    "# [\"SI-TT-H8\", \"SI-TT-H9\", \"SI-TT-H10\", \"SI-TT-H11\", \"SI-TT-H12\", \"SI-TT-H7\"]\n",
    "# spatial_count(bcl, \"SI-TT-H8\", \"/broad/macosko/leematth/recon/data/241018_SL-EXA_0332_B22VFMLLT3/D704/1/outputs\")\n",
    "# spatial_count(bcl, \"SI-TT-H9\", \"/broad/macosko/leematth/recon/data/241018_SL-EXA_0332_B22VFMLLT3/D705/1/outputs\")\n",
    "# spatial_count(bcl, \"SI-TT-H10\", \"/broad/macosko/leematth/recon/data/241018_SL-EXA_0332_B22VFMLLT3/D706/1/outputs\")\n",
    "# spatial_count(bcl, \"SI-TT-H11\", \"/broad/macosko/leematth/recon/data/241018_SL-EXA_0332_B22VFMLLT3/D704/1/outputs\")\n",
    "# spatial_count(bcl, \"SI-TT-H12\", \"/broad/macosko/leematth/recon/data/241018_SL-EXA_0332_B22VFMLLT3/D704/1/outputs\")\n",
    "# spatial_count(bcl, \"SI-TT-H7\", \"/broad/macosko/pipelines/recon/240716_SL-EXG_0167_B22CG3TLT4/D703-3/UMAP_n=45_d=0.1_I=spectral_c=fulltree45_c1=10-3000_c2=10-3000\")"
   ]
  },
  {
   "cell_type": "code",
   "execution_count": 28,
   "id": "beb7e57f-f763-43d5-9ac4-6aa27aae4707",
   "metadata": {},
   "outputs": [
    {
     "data": {
      "text/plain": [
       "['D0201', 'D0801', 'D0901', 'D1001', 'D0702', 'D0902', 'D1002']"
      ]
     },
     "execution_count": 28,
     "metadata": {},
     "output_type": "execute_result"
    }
   ],
   "source": [
    "indexes[49:56]"
   ]
  },
  {
   "cell_type": "code",
   "execution_count": 50,
   "id": "feaf14f4-7092-414e-9d71-09a83650d3e3",
   "metadata": {},
   "outputs": [],
   "source": [
    "bcl = \"241212_SL-EXM_0010_A22LHKJLT4\"\n",
    "ids = [(1,1),(3,1),(4,1),(6,1),(7,1),(11,1),(12,1),\n",
    "       (1,2),(2,2),(3,2),(4,2),(5,2),(6,2),(11,2),\n",
    "       (1,3),(2,3),(3,3),(4,3),(5,3),(6,3),(7,3),\n",
    "       (9,3),(10,3),(4,4),(5,4),(6,4),(7,4),(8,4),\n",
    "       (9,4),(10,4),(11,4),(12,4),(1,5),(5,5),(11,5),\n",
    "       (1,6),(4,6),(5,6),(6,6),(2,7),(5,7),(10,7),\n",
    "       (1,8),(3,8),(4,8),(5,8),(6,8),(8,8),(11,8),\n",
    "       (2,1),(8,1),(9,1),(10,1),(7,2),(9,2),(10,2)]\n",
    "indexes = [(\"D\"+str(id7).zfill(2)+str(id5).zfill(2)) for id7,id5 in ids]\n",
    "#[recon_count(bcl, index) for index in indexes]\n",
    "#[recon(bcl, index) for index in indexes]"
   ]
  },
  {
   "cell_type": "code",
   "execution_count": 20,
   "id": "bc0b273e-b7f5-4e92-bc16-4f8f79c21121",
   "metadata": {},
   "outputs": [],
   "source": [
    "bcl = \"241220_SL-EXM_0018_A22LHF3LT4\"\n",
    "indexes = {\n",
    "    1: [\"D709\", \"D711\", \"D702\", \"D703\", \"D705\", \"D706\", \"D707\"],\n",
    "    2: [\"D708\", \"D709\", \"D710\", \"D703\", \"D704\", \"D711\", \"D702\"],\n",
    "    3: [\"D705\", \"D709\", \"D702\", \"D703\", \"D704\", \"D701\", \"D706\"],\n",
    "    4: [\"D703\", \"D704\", \"D705\", \"D702\", \"D707\", \"D708\", \"D709\"],\n",
    "    5: [\"D710\", \"D711\", \"D712\", \"D701\", \"D702\", \"D703\", \"D704\"],\n",
    "    6: [\"D705\", \"D706\", \"D707\", \"D708\", \"D709\", \"D710\", \"D711\"],\n",
    "    7: [\"D701\", \"D704\", \"D707\", \"D702\", \"D703\", \"D706\", \"D708\"],\n",
    "    8: [\"D703\", \"D706\", \"D701\", \"D702\", \"D708\", \"D704\", \"D707\"]\n",
    "}\n",
    "\n",
    "# res = [recon(bcl, index, lane) for lane in indexes for index in indexes[lane]]\n",
    "# with open(\"commands.txt\", \"w\") as file:\n",
    "#     file.write(\"\\n\".join(res[28:]))"
   ]
  },
  {
   "cell_type": "code",
   "execution_count": 19,
   "id": "e5512c07-26a4-41c6-94e6-5a61ecda962b",
   "metadata": {},
   "outputs": [],
   "source": [
    "bcl = \"250124_SL-EXL_0050_B22KWLVLT4\"\n",
    "indexes = {\n",
    "    1: [\"D701\", \"D705\", \"D706\", \"D707\", \"D708\", \"D709\", \"D710\", \"D711\", \"D712\"],\n",
    "    2: [\"D701\", \"D705\", \"D706\", \"D707\", \"D708\", \"D709\", \"D710\", \"D711\", \"D712\"],\n",
    "    3: [\"D701\", \"D705\", \"D706\", \"D707\", \"D708\", \"D709\", \"D710\", \"D711\", \"D712\"],\n",
    "    4: [\"D701\", \"D705\", \"D706\", \"D707\", \"D708\", \"D709\", \"D710\", \"D711\", \"D712\"],\n",
    "    5: [\"D701\", \"D705\", \"D706\", \"D707\", \"D708\", \"D709\", \"D710\", \"D711\", \"D712\"],\n",
    "    6: [\"D701\", \"D705\", \"D706\", \"D707\", \"D708\", \"D709\", \"D710\", \"D711\", \"D712\"],\n",
    "    7: [\"D701\", \"D705\", \"D706\", \"D707\", \"D708\", \"D709\", \"D710\", \"D711\", \"D712\"],\n",
    "    8: [\"D701\", \"D705\", \"D706\", \"D707\", \"D708\", \"D709\", \"D710\", \"D711\", \"D712\"],\n",
    "}\n",
    "# [recon_count(bcl, index) for index in [\"D701\", \"D705\", \"D706\", \"D707\", \"D708\", \"D709\", \"D710\", \"D711\", \"D712\"]]:\n",
    "# [recon(bcl, index) for index in [\"D701\", \"D705\", \"D706\", \"D707\", \"D708\", \"D709\", \"D710\", \"D712\"]]:"
   ]
  },
  {
   "cell_type": "code",
   "execution_count": 16,
   "id": "ce98b066-2729-4d00-bb69-d15ec72bea03",
   "metadata": {},
   "outputs": [],
   "source": [
    "bcl = \"250219_SL-EXD_0474_B22LHNYLT4\"\n",
    "transcriptome = \"refdata-gex-GRCh38-2024-A\"\n",
    "RNA_indexes = [\"SI-TT-B11\", \"SI-TT-B12\", \n",
    "               \"SI-TT-D8\", \"SI-TT-D9\", \"SI-TT-D10\", \n",
    "               \"SI-TT-A2\", \n",
    "               \"SI-TT-B1\", \"SI-TT-B2\", \"SI-TT-B3\", \"SI-TT-B4\"]\n",
    "SB_indexes = [\"SI-TT-A11\", \"SI-TT-A10\"]\n",
    "              \n",
    "              \n",
    "              \n",
    "# sb_7cm = [\"SI-TT-B5\", \"SI-TT-B6\", \"SI-TT-B7\", \"SI-TT-B8\"]\n",
    "# sb_hip = [\"SI-TT-A3\",]\n",
    "# sb_cap = [\"SI-TT-G10\", \"SI-TT-G11\", \"SI-TT-G12\"]\n",
    "sb_sn1 = [\"SI-TT-A10\"]\n",
    "sb_sn2 = [\"SI-TT-A11\"]\n",
    "puck_dir_7cm = \"/broad/macosko/pipelines/recon/250124_SL-EXL_0050_B22KWLVLT4/D701_bc1-8400000_bc2-20000000/UMAP_sb2_nn45_md0.1_s1.0_lc1_rs1.0_nsr10_ne3000\"\n",
    "puck_dir_hip = \"/broad/macosko/pipelines/recon/250124_SL-EXL_0050_B22KWLVLT4/D708/UMAP_sb2_nn45_md0.1_s1.0_lc1_rs1.0_nsr10_ne500\"\n",
    "puck_dir_cap = \"/broad/macosko/pipelines/recon/241202_SL-EXH_0225_B22J22GLT4/D704/UMAP_sb2_nn45_md0.1_s1.0_lc1_rs1.0_nsr10_ne2000\"\n",
    "puck_dir_sn1 = \"/broad/macosko/leematth/recon-count/241202_SL-EXH_0226_A22HTHWLT4/D705/UMAP_n=45_d=0.1_c=fulltree45\"\n",
    "puck_dir_sn2 = \"/broad/macosko/leematth/recon-count/241202_SL-EXH_0226_A22HTHWLT4/D706/UMAP_n=45_d=0.1_c=fulltree45\"\n",
    "# for i in [cellranger_count(bcl, index, transcriptome, chemistry=\"auto\") for index in RNA_indexes]:\n",
    "#     print(i)\n",
    "# for i in [spatial_count(bcl, index, puck_dir_sn2) for index in sb_sn2]:\n",
    "#     print(i)"
   ]
  },
  {
   "cell_type": "code",
   "execution_count": 17,
   "id": "0b45bae4-00d1-4fa0-8c32-046f221af1ca",
   "metadata": {},
   "outputs": [
    {
     "ename": "NameError",
     "evalue": "name 'recon' is not defined",
     "output_type": "error",
     "traceback": [
      "\u001b[0;31m---------------------------------------------------------------------------\u001b[0m",
      "\u001b[0;31mNameError\u001b[0m                                 Traceback (most recent call last)",
      "Cell \u001b[0;32mIn[17], line 5\u001b[0m\n\u001b[1;32m      3\u001b[0m bcl \u001b[38;5;241m=\u001b[39m \u001b[38;5;124m\"\u001b[39m\u001b[38;5;124m250221_SL-EXD_0476_B22LJWGLT4\u001b[39m\u001b[38;5;124m\"\u001b[39m\n\u001b[1;32m      4\u001b[0m indexes \u001b[38;5;241m=\u001b[39m [\u001b[38;5;124m\"\u001b[39m\u001b[38;5;124mD701\u001b[39m\u001b[38;5;124m\"\u001b[39m, \u001b[38;5;124m\"\u001b[39m\u001b[38;5;124mD702\u001b[39m\u001b[38;5;124m\"\u001b[39m,  \u001b[38;5;124m\"\u001b[39m\u001b[38;5;124mD705\u001b[39m\u001b[38;5;124m\"\u001b[39m]\n\u001b[0;32m----> 5\u001b[0m \u001b[38;5;28;01mfor\u001b[39;00m i \u001b[38;5;129;01min\u001b[39;00m \u001b[43m[\u001b[49m\u001b[43mrecon\u001b[49m\u001b[43m(\u001b[49m\u001b[43mbcl\u001b[49m\u001b[43m,\u001b[49m\u001b[43m \u001b[49m\u001b[43mindex\u001b[49m\u001b[43m)\u001b[49m\u001b[43m \u001b[49m\u001b[38;5;28;43;01mfor\u001b[39;49;00m\u001b[43m \u001b[49m\u001b[43mindex\u001b[49m\u001b[43m \u001b[49m\u001b[38;5;129;43;01min\u001b[39;49;00m\u001b[43m \u001b[49m\u001b[43mindexes\u001b[49m\u001b[43m]\u001b[49m:\n\u001b[1;32m      6\u001b[0m     \u001b[38;5;28mprint\u001b[39m(i)\n",
      "Cell \u001b[0;32mIn[17], line 5\u001b[0m, in \u001b[0;36m<listcomp>\u001b[0;34m(.0)\u001b[0m\n\u001b[1;32m      3\u001b[0m bcl \u001b[38;5;241m=\u001b[39m \u001b[38;5;124m\"\u001b[39m\u001b[38;5;124m250221_SL-EXD_0476_B22LJWGLT4\u001b[39m\u001b[38;5;124m\"\u001b[39m\n\u001b[1;32m      4\u001b[0m indexes \u001b[38;5;241m=\u001b[39m [\u001b[38;5;124m\"\u001b[39m\u001b[38;5;124mD701\u001b[39m\u001b[38;5;124m\"\u001b[39m, \u001b[38;5;124m\"\u001b[39m\u001b[38;5;124mD702\u001b[39m\u001b[38;5;124m\"\u001b[39m,  \u001b[38;5;124m\"\u001b[39m\u001b[38;5;124mD705\u001b[39m\u001b[38;5;124m\"\u001b[39m]\n\u001b[0;32m----> 5\u001b[0m \u001b[38;5;28;01mfor\u001b[39;00m i \u001b[38;5;129;01min\u001b[39;00m [\u001b[43mrecon\u001b[49m(bcl, index) \u001b[38;5;28;01mfor\u001b[39;00m index \u001b[38;5;129;01min\u001b[39;00m indexes]:\n\u001b[1;32m      6\u001b[0m     \u001b[38;5;28mprint\u001b[39m(i)\n",
      "\u001b[0;31mNameError\u001b[0m: name 'recon' is not defined"
     ]
    }
   ],
   "source": [
    "# pucks 250221 --> 2 3cm and 1 7cm\n",
    "# WALKUP-17859\n",
    "bcl = \"250221_SL-EXD_0476_B22LJWGLT4\"\n",
    "indexes = [\"D701\", \"D702\",  \"D705\"]\n",
    "for i in [recon(bcl, index) for index in indexes]:\n",
    "    print(i)"
   ]
  },
  {
   "cell_type": "code",
   "execution_count": 18,
   "id": "e0df46cb-c3be-4348-94e1-2bee2c508241",
   "metadata": {},
   "outputs": [],
   "source": [
    "# Spatial Library (Flex)\n",
    "# \n",
    "bcl = '250227_SL-NVH_0956_AHTGGVDRX5'\n",
    "puck_dir = '/broad/macosko/pipelines/recon/250124_SL-EXL_0050_B22KWLVLT4/D701_bc1-8400000_bc2-20000000/UMAP_sb2_nn45_md0.1_s1.0_lc1_rs1.0_nsr10_ne3000'\n",
    "indexes = ['SI-TT-B9', 'SI-TT-B10']\n",
    "# for i in [spatial_count(bcl, index, puck_dir) for index in indexes]:\n",
    "#     print(i)"
   ]
  },
  {
   "cell_type": "code",
   "execution_count": 34,
   "id": "6823af9a-c1af-4cfc-a6c7-9c989ee703f2",
   "metadata": {},
   "outputs": [],
   "source": [
    "# Andrew, Juliana, Haoyuan 4 3cm pucks\n",
    "# WALKUP-17888\n",
    "# https://docs.google.com/spreadsheets/d/1rgoJvjOl-fiadjF2W7PD9G2zKiZ_jBMfILwmG89C5Yo/edit?gid=1811879660#gid=1811879660\n",
    "bcl = '250304_SL-EXC_0505_B22LHFFLT4'\n",
    "indexes = [\"D701\", \"D702\", \"D703\", \"D704\"]\n",
    "# for i in [recon(bcl, index) for index in indexes]:\n",
    "#     print(i)"
   ]
  },
  {
   "cell_type": "code",
   "execution_count": 35,
   "id": "1d799e64-d448-4a82-be0b-7865db6a5ac6",
   "metadata": {},
   "outputs": [],
   "source": [
    "# Andrew, Juliana, Haoyuan 4 3cm pucks set 1\n",
    "# WALKUP-17933\n",
    "# https://docs.google.com/spreadsheets/d/1rgoJvjOl-fiadjF2W7PD9G2zKiZ_jBMfILwmG89C5Yo/edit?gid=1811879660#gid=1811879660\n",
    "bcl = \"250307_SL-EXD_0489_B22LWTLLT4\"\n",
    "indexes = [\"D705\", \"D706\", \"D707\", \"D708\"]\n",
    "# for i in [recon(bcl, index) for index in indexes]:\n",
    "#     print(i)"
   ]
  },
  {
   "cell_type": "code",
   "execution_count": 37,
   "id": "b4028417-c0e9-4df4-83e6-199b8c3fe7f5",
   "metadata": {},
   "outputs": [],
   "source": [
    "# Andrew, Juliana, Haoyuan 4 3cm pucks set 2\n",
    "# WALKUP-17933\n",
    "# https://docs.google.com/spreadsheets/d/1rgoJvjOl-fiadjF2W7PD9G2zKiZ_jBMfILwmG89C5Yo/edit?gid=1811879660#gid=1811879660\n",
    "bcl = \"250307_SL-EXA_0451_B22LWL7LT4\"\n",
    "indexes = [\"D709\", \"D710\", \"D711\", \"D712\"]\n",
    "# for i in [recon(bcl, index) for index in indexes]:\n",
    "#     print(i)"
   ]
  },
  {
   "cell_type": "code",
   "execution_count": 44,
   "id": "b6e76787-45f3-47c5-b110-6269535147e7",
   "metadata": {},
   "outputs": [],
   "source": [
    "# WALKUP-17975: 2025-03-14_Recon_3cm_set1\n",
    "bcl = '250314_SL-EXC_0515_A22LTMCLT4'\n",
    "indexes = [\"D705\", \"D706\", \"D707\", \"D708\"]\n",
    "# for i in [recon(bcl, index) for index in indexes]:\n",
    "#     print(i)"
   ]
  },
  {
   "cell_type": "code",
   "execution_count": 45,
   "id": "9f19dd61-008a-474f-82b8-cd889c61b270",
   "metadata": {},
   "outputs": [],
   "source": [
    "# WALKUP-17976: 2025-03-14_Recon_3cm_set2\n",
    "bcl = '250314_SL-EXC_0514_B22LW7VLT4'\n",
    "indexes = [\"D709\", \"D710\", \"D711\", \"D712\"]\n",
    "# for i in [recon(bcl, index) for index in indexes]:\n",
    "#     print(i)"
   ]
  },
  {
   "cell_type": "code",
   "execution_count": 13,
   "id": "d964aa4d-d1a2-46b9-9b65-7d079deb3d44",
   "metadata": {},
   "outputs": [],
   "source": [
    "# WALKUP-17974\n",
    "transcriptome = \"refdata-gex-GRCh38-2024-A\"\n",
    "bcl = '250314_SL-EXA_0457_B22M3WFLT4'\n",
    "s12_GEX = ['SI-TT-F9', 'SI-TT-F10', 'SI-TT-F11', 'SI-TT-F12']\n",
    "s13_GEX = ['SI-TT-G9', 'SI-TT-G10', 'SI-TT-G11', 'SI-TT-G12']\n",
    "s12_spatial = ['SI-TT-A9', 'SI-TT-A10', 'SI-TT-A11', 'SI-TT-A12']\n",
    "s13_spatial = ['SI-TT-H9', 'SI-TT-H10', 'SI-TT-H11', 'SI-TT-H12']\n",
    "# s12\n",
    "# [cellranger_count(bcl, index, transcriptome) for index in s12_GEX]\n",
    "# s12_puck_dir = '/broad/macosko/pipelines/recon/250219_SL-EXH_0289_A22LK2MLT4/D703/UMAP_sb2_nn45_md0.1_s1.0_lc1_rs1.0_nsr10_ne2000/'\n",
    "# for j in [spatial_count(bcl, index, s12_puck_dir) for index in s12_spatial]:\n",
    "#     print(j)\n",
    "# s13\n",
    "# [cellranger_count(bcl, index, transcriptome) for index in s13_GEX]\n",
    "# s13_puck_dir = '/broad/macosko/pipelines/recon/250219_SL-EXH_0289_A22LK2MLT4/D704_bc1-1100000_bc2-3700000/UMAP_sb2_nn45_md0.1_s1.0_lc1_rs1.0_nsr10_ne2000/m'\n",
    "# for j in [spatial_count(bcl, index, s13_puck_dir) for index in s13_spatial]:\n",
    "    # print(j)\n",
    "# for x,y in zip(s12_GEX, s12_spatial):\n",
    "#     print(f'Rscript run-positioning.R /broad/macosko/pipelines/cellranger-count/250314_SL-EXA_0457_B22M3WFLT4/{x}/outs /broad/macosko/pipelines/spatial-count/250314_SL-EXA_0457_B22M3WFLT4/{y} /broad/macosko/pipelines/positioning/250314_SL-EXA_0457_B22M3WFLT4/{y} &&')"
   ]
  },
  {
   "cell_type": "code",
   "execution_count": 12,
   "id": "21f7b0ed-fb28-4518-a65c-8fcd03b8d395",
   "metadata": {},
   "outputs": [],
   "source": [
    "# Mehrdad Calico Runs\n",
    "transcriptome = \"refdata-gex-GRCh38-2024-A\"\n",
    "bcl = '250323_SL-EXM_0088_A22LHG7LT4'\n",
    "# spatial = ['SI-TT-G7', 'SI-TT-G8', 'SI-TT-G9', 'SI-TT-G10', 'SI-TT-G11', 'SI-TT-G12', 'SI-TT-H3', 'SI-TT-H4', 'SI-TT-H1', 'SI-TT-H2', 'SI-TT-H5', 'SI-TT-H6', 'SI-TT-H7', 'SI-TT-H8', 'SI-TT-H9', 'SI-TT-B4']\n",
    "# GEX = ['SI-TT-F1', 'SI-TT-F2', 'SI-TT-F3', 'SI-TT-F4',  'SI-TT-F5',  'SI-TT-F6',  'SI-TT-F7', 'SI-TT-F8', 'SI-TT-F9', 'SI-TT-F10',  'SI-TT-F11', 'SI-TT-F12', 'SI-TT-G1', 'SI-TT-G2', 'SI-TT-G3', 'SI-TT-A1', 'SI-TT-G5', 'SI-TT-G6', 'SI-TT-B2', 'SI-TT-B3']\n",
    "# spatial = ['SI-TT-G10', 'SI-TT-G11', 'SI-TT-H2']\n",
    "spatial = ['SI-TT-C4']\n",
    "GEX = ['SI-TT-B1']\n",
    "puck_dir = '/broad/macosko/pipelines/recon/241212_SL-EXM_0010_A22LHKJLT4/D1102/'\n",
    "# puck_dirs = [f'/broad/macosko/leematth/recon/241220_SL-EXM_0018_A22LHF3LT4/{x}' for x in ['1','2','3','4A','4B','5','6','6A','7','8','9A','9B','10','11','12','13']]\n",
    "puck_dirs = [f'/broad/macosko/leematth/recon/241220_SL-EXM_0018_A22LHF3LT4/{x}' for x in ['4A','4B','8']]\n",
    "# spatial = ['SI-TT-G10', 'SI-TT-G11']\n",
    "# puck_dirs = [f'/broad/macosko/leematth/recon/241220_SL-EXM_0018_A22LHF3LT4/{x}' for x in ['4A','4B']]\n",
    "# [cellranger_count(bcl, index, transcriptome) for index in GEX]\n",
    "# assert len(puck_dirs) == len(spatial)\n",
    "# for j in [spatial_count(bcl, index, puck_dir) for index, puck_dir in zip(spatial, puck_dirs)]:\n",
    "#     print(j)"
   ]
  },
  {
   "cell_type": "code",
   "execution_count": 54,
   "id": "04804eb5-d895-4b68-9d57-1258e603af92",
   "metadata": {},
   "outputs": [],
   "source": [
    "# WALKUP-18040\n",
    "bcl = '250329_SL-EXA_0468_B22NHC7LT4'\n",
    "indexes = ['D703', 'D704', 'D706']\n",
    "# for i in [recon(bcl, index) for index in indexes]:\n",
    "#     print(i)"
   ]
  },
  {
   "cell_type": "code",
   "execution_count": 11,
   "id": "e82a56a6-3a92-4377-9fa5-70dcec2cfd69",
   "metadata": {},
   "outputs": [],
   "source": [
    "# WALKUP-18037\n",
    "bcl = '250327_SL-EXB_0517_A22VTC3LT3'\n",
    "# RNA_indexes = [\"SI-TT-\"+x for x in [\"D11\",\"D12\",\"A9\",\"A10\"]]\n",
    "# SB_indexes = [\"SI-TT-\"+x for x in [\"H10\",\"H11\",\"A11\",\"A12\"]]\n",
    "# RNA_indexes = [\"SI-TT-\"+x for x in [\"A9\",\"A10\"]]\n",
    "SB_indexes = [\"SI-TT-\"+x for x in [\"A11\",\"A12\"]]\n",
    "puck_dir = '/broad/macosko/pipelines/recon/250304_SL-EXC_0505_B22LHFFLT4/D704/UMAP_sb2_nn45_md0.1_s1.0_lc1_rs1.0_nsr10_ne1500'\n",
    "# [cellranger_count(bcl, index, \"refdata-gex-GRCh38-2024-A\", chemistry=\"auto\") for index in RNA_indexes];\n",
    "# for i in [spatial_count(bcl, index, puck_dir) for index in SB_indexes]:\n",
    "#     print(i)"
   ]
  },
  {
   "cell_type": "code",
   "execution_count": 10,
   "id": "06724a48-d76b-4529-b6cf-232331167c6d",
   "metadata": {},
   "outputs": [],
   "source": [
    "# 250323_SL-EXM_0088_A22LHG7LT4 Mehrdad Calico batch #1\n",
    "bcl = '250323_SL-EXM_0088_A22LHG7LT4'\n",
    "SB_indexes = [\"SI-TT-H2\"]\n",
    "puck_dir = '/broad/macosko/leematth/recon/aggregates/250323_SL-EXM_0088_A22LHG7LT4/8'\n",
    "# for i in [spatial_count(bcl, index, puck_dir) for index in SB_indexes]:\n",
    "#     print(i)"
   ]
  },
  {
   "cell_type": "code",
   "execution_count": 13,
   "id": "99534719-60cb-4ddb-86f5-8f6d25f5c6a3",
   "metadata": {},
   "outputs": [
    {
     "name": "stdout",
     "output_type": "stream",
     "text": [
      "/broad/macosko/pipelines/scripts/cellranger-count.sh 250512_VL00297_86_AAFKVLCM5 SI-TT-C12 refdata-gex-GRCh38-2024-A auto\n"
     ]
    }
   ],
   "source": [
    "# Margaret MULTI-seq (/broad/macosko/data/flowcells/250512_VL00297_86_AAFKVLCM5/Data/Intensities/BaseCalls/fastqs  )\n",
    "bcl = '250512_VL00297_86_AAFKVLCM5'\n",
    "index = 'SI-TT-C12'\n",
    "transcriptome = 'refdata-gex-GRCh38-2024-A'\n",
    "cellranger_count(bcl, index, transcriptome, chemistry=\"auto\")"
   ]
  },
  {
   "cell_type": "markdown",
   "id": "9b09a8eb-94a5-4b68-98e8-3110cdc6454a",
   "metadata": {},
   "source": [
    "### Re-Runs"
   ]
  },
  {
   "cell_type": "code",
   "execution_count": 15,
   "id": "46a9029e-0166-4468-ab80-e4664f5ef195",
   "metadata": {},
   "outputs": [],
   "source": [
    "bcl = \"241105_SL-EXH_0206_B22TMH7LT3\"\n",
    "#recon_count(bcl, \"D704\", bc1=823752, bc2=2471256, p=1.0)\n",
    "#recon_count(bcl, \"D703\", bc1=1000000, bc2=2864049, p=1.0)\n",
    "# recon_count(bcl, \"D704\", bc1=1000000, bc2=2864049, p=1.0)"
   ]
  },
  {
   "cell_type": "code",
   "execution_count": 16,
   "id": "dbe17816-0616-44bd-9dcf-64373e94be1a",
   "metadata": {},
   "outputs": [],
   "source": [
    "bcl = \"240923_SL-EXH_0185_B22G7HYLT4\"\n",
    "#recon_count(bcl, \"D704\", bc1=333515, bc2=667030)\n",
    "#recon_count(bcl, \"D705\", bc1=258400, bc2=516800)"
   ]
  },
  {
   "cell_type": "code",
   "execution_count": 17,
   "id": "dbf22eda-1672-4f52-bcf7-26f6355f48c8",
   "metadata": {},
   "outputs": [],
   "source": [
    "bcl = \"241002_SL-EXH_0192_A22NLKLLT3\"\n",
    "puck_dir = \"/broad/macosko/leematth/spatial-count/241002_SL-EXH_0192_A22NLKLLT3/pucks\"\n",
    "# [cellranger_count(bcl, index, \"refdata-gex-GRCh38-2024-A\", chemistry=\"auto\") for index in [\"SI-TT-B9\", \"SI-TT-B10\"]];\n",
    "#spatial_count(bcl, \"SI-TT-G3\", puck_dir, p=0.1)\n",
    "#spatial_count(bcl, \"SI-TT-G4\", puck_dir, p=0.1)"
   ]
  },
  {
   "cell_type": "code",
   "execution_count": 10,
   "id": "a155ad4c-f7bf-4c10-8111-45b7b262e17c",
   "metadata": {},
   "outputs": [
    {
     "data": {
      "text/plain": [
       "'sbatch --nodelist=slurm-bits-d[002-005] -C container -o /broad/macosko/pipelines/logs/250527_SL-EXB_0558_B22Y57YLT4/SI-TT-E3/spatial-count.log -J spatial-count-250527_SL-EXB_0558_B22Y57YLT4-SI-TT-E3                       -c 9 --mem 28G --time 24:00:00                       --mail-user macosko-pipelines@broadinstitute.org --mail-type END,FAIL,REQUEUE,INVALID_DEPEND,STAGE_OUT,TIME_LIMIT --wrap \"podman run --rm -v /broad/macosko/pipelines:/broad/macosko/pipelines -v /broad/macosko:/broad/macosko:ro pipeline-image \\'julia --heap-size-hint=28G /broad/macosko/pipelines/scripts/spatial-count.jl /broad/macosko/pipelines/fastqs/250527_SL-EXB_0558_B22Y57YLT4 /broad/macosko/pipelines/recon/250320_SL-EXE_0508_A22LHGKLT4/SA3/ /broad/macosko/pipelines/spatial-count/250527_SL-EXB_0558_B22Y57YLT4/SI-TT-E3 -r SI-TT-E3 -p 1\\'\"'"
      ]
     },
     "execution_count": 10,
     "metadata": {},
     "output_type": "execute_result"
    }
   ],
   "source": [
    "bcl = \"250527_SL-EXB_0558_B22Y57YLT4\"\n",
    "puck_dir = \"/broad/macosko/pipelines/recon/250320_SL-EXE_0508_A22LHGKLT4/SA3/\"\n",
    "spatial_count(bcl, \"SI-TT-E3\", puck_dir, p=1)\n",
    "# spatial_count(bcl, \"SI-TT-A11\", puck_dir, p=0.45)\n",
    "# spatial_count(bcl, \"SI-TT-A11\", puck_dir, p=0.40)\n",
    "# spatial_count(bcl, \"SI-TT-A11\", puck_dir, p=0.35)\n",
    "# spatial_count(bcl, \"SI-TT-A11\", puck_dir, p=0.30)\n",
    "# spatial_count(bcl, \"SI-TT-A11\", puck_dir, p=0.25)\n",
    "# spatial_count(bcl, \"SI-TT-A11\", puck_dir, p=0.20)\n",
    "# spatial_count(bcl, \"SI-TT-A11\", puck_dir, p=0.15)\n",
    "# spatial_count(bcl, \"SI-TT-A11\", puck_dir, p=0.10)\n",
    "# spatial_count(bcl, \"SI-TT-A11\", puck_dir, p=0.05)"
   ]
  },
  {
   "cell_type": "code",
   "execution_count": 31,
   "id": "ee261747-2c31-4de2-9238-859e369b1d72",
   "metadata": {},
   "outputs": [],
   "source": [
    "bcl = \"241119_SL-EXJ_0123_B22GLY2LT4\"\n",
    "# recon_count(bcl, \"D702\", p = 0.5, bc1 = 8216770, bc2 = 23000000)"
   ]
  },
  {
   "cell_type": "code",
   "execution_count": 29,
   "id": "b98c3235-033a-44be-986d-c905f12bbb19",
   "metadata": {},
   "outputs": [],
   "source": [
    "bcl = \"241119_SL-EXJ_0123_B22GLY2LT4\"\n",
    "# recon_count(bcl, \"D702\", p = 0.25, bc1 = 8216770, bc2 = 23000000)"
   ]
  },
  {
   "cell_type": "code",
   "execution_count": 5,
   "id": "ab0af494-a51e-4904-bf9a-71951215042a",
   "metadata": {},
   "outputs": [],
   "source": [
    "bcl = \"241202_SL-EXH_0225_B22J22GLT4\"\n",
    "ps = [0.6, 0.7, 0.8, 0.9]\n",
    "# ps = [1]\n",
    "# for i in [recon_count(bcl, index, p = p) for index in [\"D704\"] for p in ps]:\n",
    "#     print(i)\n",
    "# for i in [recon(bcl, index, p = p) for index in [\"D703\",\"D704\"] for p in ps]:\n",
    "#     print(i)"
   ]
  },
  {
   "cell_type": "code",
   "execution_count": 7,
   "id": "6e169513-1fc0-4569-a057-6aa7ddde2a2c",
   "metadata": {},
   "outputs": [],
   "source": [
    "bcl = \"241202_SL-EXH_0226_A22HTHWLT4\"\n",
    "ps = [0.6, 0.7, 0.8]\n",
    "# ps = [1]\n",
    "# for i in [recon(bcl, index, p = p, n_epochs = 1000) for index in [\"D701\",\"D702\"] for p in ps]:\n",
    "#     print(i)\n",
    "# [recon(bcl, index, p = p) for index in [\"D701\",\"D702\"] for p in ps]"
   ]
  },
  {
   "cell_type": "code",
   "execution_count": 8,
   "id": "ce088aad-127f-4935-be7f-124da7b398f3",
   "metadata": {},
   "outputs": [],
   "source": [
    "bcl = \"250124_SL-EXL_0050_B22KWLVLT4\"\n",
    "# for i in  [recon(bcl, index, bc1 = 8400000, bc2 = 20000000, n_epochs = 1000, min_dist = 0.05, spread = 0.5) for index in [\"D701\"]]:\n",
    "#     print(i)"
   ]
  },
  {
   "cell_type": "code",
   "execution_count": 9,
   "id": "8a80b558-f356-4cb4-8cac-4e251baf59da",
   "metadata": {},
   "outputs": [],
   "source": [
    "###### bcl = \"250124_SL-EXL_0050_B22KWLVLT4\"\n",
    "indexes = {\n",
    "    1: [\"D701\", \"D705\", \"D706\", \"D707\", \"D708\", \"D709\", \"D710\", \"D711\", \"D712\"],\n",
    "    2: [\"D701\", \"D705\", \"D706\", \"D707\", \"D708\", \"D709\", \"D710\", \"D711\", \"D712\"],\n",
    "    3: [\"D701\", \"D705\", \"D706\", \"D707\", \"D708\", \"D709\", \"D710\", \"D711\", \"D712\"],\n",
    "    4: [\"D701\", \"D705\", \"D706\", \"D707\", \"D708\", \"D709\", \"D710\", \"D711\", \"D712\"],\n",
    "    5: [\"D701\", \"D705\", \"D706\", \"D707\", \"D708\", \"D709\", \"D710\", \"D711\", \"D712\"],\n",
    "    6: [\"D701\", \"D705\", \"D706\", \"D707\", \"D708\", \"D709\", \"D710\", \"D711\", \"D712\"],\n",
    "    7: [\"D701\", \"D705\", \"D706\", \"D707\", \"D708\", \"D709\", \"D710\", \"D711\", \"D712\"],\n",
    "    8: [\"D701\", \"D705\", \"D706\", \"D707\", \"D708\", \"D709\", \"D710\", \"D711\", \"D712\"],\n",
    "}\n",
    "# for i in [recon_count(bcl, index, bc1 = 6000000, bc2 = 16000000) for index in [\"D701\"]]:\n",
    "#     print(i)\n",
    "# for i in [recon(bcl, index, n_neighbors = 32) for index in [\"D701\"]]:\n",
    "#     print(i)\n",
    "# for i in [recon(bcl, index, n_epochs = 2000) for index in [\"D701\"]]:\n",
    "#     print(i)"
   ]
  },
  {
   "cell_type": "code",
   "execution_count": 10,
   "id": "cf57b9a6-1f1a-468a-bf69-e4f50c52120f",
   "metadata": {},
   "outputs": [],
   "source": [
    "bcl = \"240923_SL-EXH_0185_B22G7HYLT4\"\n",
    "indexes = [\"D701_S1_L003\", \"D701_S1_L005\", \"D702\", \"D703\", \"D704\", \"D705\", \"D706\", \"D707\", \"D708\", \"D709\", \"D710\"]\n",
    "# for i in [recon(bcl, index) for index in indexes]:\n",
    "#     print(i)\n",
    "# PROCESSING"
   ]
  },
  {
   "cell_type": "code",
   "execution_count": 11,
   "id": "89a1fe3a-55f8-46a5-978f-23c61994be01",
   "metadata": {},
   "outputs": [],
   "source": [
    "bcl = \"241105_SL-EXH_0206_B22TMH7LT3\"\n",
    "# for i in [recon(bcl, index) for index in [\"D701\",\"D702\",\"D703\",\"D704\",\"D707\",\"D708\"]]:\n",
    "#     print(i)\n",
    "# for i in [recon_count(bcl, index, bc1 = 823752, bc2 = 2471256) for index in [\"D704\"]]:\n",
    "#     print(i)"
   ]
  },
  {
   "cell_type": "code",
   "execution_count": 12,
   "id": "29a5c525-6c17-4d38-816b-931952e7c018",
   "metadata": {},
   "outputs": [],
   "source": [
    "bcl = \"241202_SL-EXH_0225_B22J22GLT4\"\n",
    "# for i in [recon(bcl, \"D704\", n_epochs = 2000)]:\n",
    "#     print(i)"
   ]
  },
  {
   "cell_type": "code",
   "execution_count": 13,
   "id": "0e376f4a-5684-4cb5-8f6c-11befd976c8a",
   "metadata": {},
   "outputs": [],
   "source": [
    "bcl = \"241220_SL-EXM_0018_A22LHF3LT4\"\n",
    "# for i in [recon(bcl, 'D703', lane = 5, bc2 = 631000)]:\n",
    "#     print(i)"
   ]
  },
  {
   "cell_type": "code",
   "execution_count": 14,
   "id": "c94c9894-8200-4c5a-aaef-d2954dfb4516",
   "metadata": {},
   "outputs": [],
   "source": [
    "bcl = \"250219_SL-EXH_0289_A22LK2MLT4\"\n",
    "indexes = [\"D704\"]\n",
    "# for i in [recon(bcl, index, bc1 = 1100000, bc2 = 3700000, n_epochs = 2000) for index in indexes]:\n",
    "#     print(i)"
   ]
  },
  {
   "cell_type": "code",
   "execution_count": 15,
   "id": "b247d9b5-e72d-467a-a0ed-64f36fa9046c",
   "metadata": {},
   "outputs": [],
   "source": [
    "bcl = \"250219_SL-EXH_0289_A22LK2MLT4\"\n",
    "indexes = [\"D701\", \"D702\", \"D703\", \"D704\"]\n",
    "ps = [0.6, 0.7, 0.8, 0.9]\n",
    "# for i in [recon_count(bcl, index, p = p) for index in indexes for p in ps]:\n",
    "#     print(i)"
   ]
  },
  {
   "cell_type": "code",
   "execution_count": 39,
   "id": "b67d625a-62f1-4c55-b59e-8b85709f5e71",
   "metadata": {},
   "outputs": [],
   "source": [
    "# WALKUP-17975: 2025-03-14_Recon_3cm_set1\n",
    "bcl = '250314_SL-EXC_0515_A22LTMCLT4'\n",
    "indexes = [\"D705\", \"D706\", \"D707\", \"D708\"]\n",
    "# for i in [recon(bcl, index, local_connectivity = 6) for index in indexes]:\n",
    "#     print(i)"
   ]
  },
  {
   "cell_type": "code",
   "execution_count": 40,
   "id": "2a73d48f-5ec2-4a14-abba-b9bebcd46278",
   "metadata": {},
   "outputs": [],
   "source": [
    "# WALKUP-17976: 2025-03-14_Recon_3cm_set2\n",
    "bcl = '250314_SL-EXC_0514_B22LW7VLT4'\n",
    "indexes = [\"D711\"]\n",
    "# for i in [recon_count(bcl, index, bc2=4400000) for index in indexes]:\n",
    "#     print(i)"
   ]
  },
  {
   "cell_type": "code",
   "execution_count": null,
   "id": "32576662-7890-481a-91eb-ed8b1b48571d",
   "metadata": {},
   "outputs": [],
   "source": [
    "bcl = \"240923_SL-EXH_0185_B22G7HYLT4\"\n",
    "indexes = [\"D701_S1_L003\", \"D701_S1_L005\", \"D702\", \"D703\", \"D704\", \"D705\", \"D706\", \"D707\", \"D708\", \"D709\", \"D710\"]\n",
    "# [recon_count(bcl, index) for index in indexes];\n",
    "# PROCESSING"
   ]
  },
  {
   "cell_type": "code",
   "execution_count": 49,
   "id": "044d6eac-8de5-491a-b679-10039b1df24f",
   "metadata": {},
   "outputs": [
    {
     "name": "stdout",
     "output_type": "stream",
     "text": [
      "/broad/macosko/pipelines/scripts/cellranger-count.sh 250323_SL-EXM_0088_A22LHG7LT4 SI-TT-B1 refdata-gex-GRCm39-2024-A auto\n"
     ]
    }
   ],
   "source": [
    "# WALKUP-17974\n",
    "transcriptome = \"refdata-gex-GRCm39-2024-A\"\n",
    "bcl = '250323_SL-EXM_0088_A22LHG7LT4'\n",
    "cellranger_count(bcl, 'SI-TT-B1', transcriptome)"
   ]
  },
  {
   "cell_type": "code",
   "execution_count": 19,
   "id": "cdc049ad-3b9c-4b3d-a737-5613441c3236",
   "metadata": {},
   "outputs": [],
   "source": [
    "# BICAN batch 18 downsampling\n",
    "bcl = '250408_SL-EXJ_0235_B22V3KGLT4'\n",
    "ps = [0.25]\n",
    "# for i in [recon_count(bcl, index, p = p) for index in [\"D701\",\"D702\",\"D703\",\"D704\"] for p in ps]:\n",
    "#     print(i)\n",
    "# for i in [recon(bcl, index, p = p) for index in [\"D701\",\"D702\",\"D703\",\"D704\"] for p in ps]:\n",
    "#     print(i)"
   ]
  },
  {
   "cell_type": "code",
   "execution_count": 23,
   "id": "2456a146-9507-4f09-bfa7-2aaac1d2b666",
   "metadata": {},
   "outputs": [
    {
     "name": "stdout",
     "output_type": "stream",
     "text": [
      "sbatch --partition=hpcx_macosko -C container -o /broad/macosko/pipelines/logs/250501_SL-EXK_0144_B22W35FLT4/D701_bc1-5000000_bc2-18000000/recon.log -J recon-250501_SL-EXK_0144_B22W35FLT4-D701_bc1-5000000_bc2-18000000                       --mem 952G -c 8 -t 72:00:00                       --mail-user macosko-pipelines@broadinstitute.org --mail-type END,FAIL,REQUEUE,INVALID_DEPEND,STAGE_OUT,TIME_LIMIT --wrap \"podman run --rm --init --pull never -v /broad/macosko/pipelines:/broad/macosko/pipelines:rw pipeline-image 'julia --threads 8 --heap-size-hint=952G /broad/macosko/pipelines/scripts/recon-count.jl /broad/macosko/pipelines/fastqs/250501_SL-EXK_0144_B22W35FLT4 /broad/macosko/pipelines/recon/250501_SL-EXK_0144_B22W35FLT4/D701_bc1-5000000_bc2-18000000 -r D701.* -p 1.0 -x 5000000 -y 18000000 ; micromamba run python /broad/macosko/pipelines/scripts/knn.py -i /broad/macosko/pipelines/recon/250501_SL-EXK_0144_B22W35FLT4/D701_bc1-5000000_bc2-18000000 -o /broad/macosko/pipelines/recon/250501_SL-EXK_0144_B22W35FLT4/D701_bc1-5000000_bc2-18000000 -n 150 -b 2 -c 8 -k 2 ; micromamba run python /broad/macosko/pipelines/scripts/recon.py -i /broad/macosko/pipelines/recon/250501_SL-EXK_0144_B22W35FLT4/D701_bc1-5000000_bc2-18000000 -o /broad/macosko/pipelines/recon/250501_SL-EXK_0144_B22W35FLT4/D701_bc1-5000000_bc2-18000000 -c 8 -b 2 -nn 45 -lc 1 -ne 2000'\"\n"
     ]
    }
   ],
   "source": [
    "# WALKUP-18225: 2025-04-25_Recon_7cm\n",
    "bcl = '250501_SL-EXK_0144_B22W35FLT4'\n",
    "bc1 = 5000000\n",
    "bc2 = 18000000\n",
    "for i in [recon_count_and_run(bcl, index, bc1 = bc1, bc2 = bc2) for index in [\"D701\"]]:\n",
    "    print(i)"
   ]
  },
  {
   "cell_type": "code",
   "execution_count": null,
   "id": "ea3befa8-551e-4572-aee7-48e331aa25de",
   "metadata": {},
   "outputs": [],
   "source": []
  },
  {
   "cell_type": "code",
   "execution_count": null,
   "id": "a7aa1cca-8a96-4a75-815d-a6dad0bff993",
   "metadata": {},
   "outputs": [],
   "source": []
  },
  {
   "cell_type": "code",
   "execution_count": 1,
   "id": "ebd34080-0fc0-48f9-b797-5320c663ac4d",
   "metadata": {},
   "outputs": [],
   "source": [
    "import firecloud.api as fapi"
   ]
  },
  {
   "cell_type": "code",
   "execution_count": 4,
   "id": "17ee38c3-b4fd-4d18-839e-5991a5530c8e",
   "metadata": {},
   "outputs": [
    {
     "data": {
      "text/plain": [
       "{'extraInputs': [],\n",
       " 'invalidInputs': {},\n",
       " 'invalidOutputs': {},\n",
       " 'methodConfiguration': {'deleted': False,\n",
       "  'inputs': {'cellranger_count.sample': 'this.sample',\n",
       "   'cellranger_count.count_output_path': '',\n",
       "   'cellranger_count.params': '\"\"',\n",
       "   'cellranger_count.reference': 'this.reference',\n",
       "   'cellranger_count.docker': '',\n",
       "   'cellranger_count.bucket': '',\n",
       "   'cellranger_count.technique': '\"cellranger\"',\n",
       "   'cellranger_count.log_output_path': '',\n",
       "   'cellranger_count.fastq_paths': 'this.fastq_paths',\n",
       "   'cellranger_count.disk_GiB': '\"1480\"',\n",
       "   'cellranger_count.mem_GiB': '\"64\"',\n",
       "   'cellranger_count.id': 'this.id'},\n",
       "  'methodConfigVersion': 138,\n",
       "  'methodRepoMethod': {'methodName': 'cellranger-count',\n",
       "   'methodVersion': 26,\n",
       "   'methodNamespace': 'macosko-pipelines',\n",
       "   'methodUri': 'agora://macosko-pipelines/cellranger-count/26',\n",
       "   'sourceRepo': 'agora'},\n",
       "  'name': 'cellranger-count',\n",
       "  'namespace': 'macosko-pipelines',\n",
       "  'outputs': {},\n",
       "  'prerequisites': {},\n",
       "  'rootEntityType': 'sample'},\n",
       " 'missingInputs': [],\n",
       " 'validInputs': ['cellranger_count.sample',\n",
       "  'cellranger_count.count_output_path',\n",
       "  'cellranger_count.params',\n",
       "  'cellranger_count.reference',\n",
       "  'cellranger_count.docker',\n",
       "  'cellranger_count.bucket',\n",
       "  'cellranger_count.technique',\n",
       "  'cellranger_count.log_output_path',\n",
       "  'cellranger_count.fastq_paths',\n",
       "  'cellranger_count.disk_GiB',\n",
       "  'cellranger_count.mem_GiB',\n",
       "  'cellranger_count.id'],\n",
       " 'validOutputs': []}"
      ]
     },
     "execution_count": 4,
     "metadata": {},
     "output_type": "execute_result"
    }
   ],
   "source": [
    "namespace = \"testmybroad\"\n",
    "workspace = \"Macosko-Pipelines\"\n",
    "cnamespace = \"macosko-pipelines\"\n",
    "method = \"cellranger-count\"\n",
    "\n",
    "fapi.validate_config(namespace, workspace, cnamespace, method).json()"
   ]
  },
  {
   "cell_type": "code",
   "execution_count": null,
   "id": "001aacf3-8312-4b0c-8181-62e3be862c8a",
   "metadata": {},
   "outputs": [],
   "source": []
  }
 ],
 "metadata": {
  "kernelspec": {
   "display_name": "Python 3 (ipykernel)",
   "language": "python",
   "name": "python3"
  },
  "language_info": {
   "codemirror_mode": {
    "name": "ipython",
    "version": 3
   },
   "file_extension": ".py",
   "mimetype": "text/x-python",
   "name": "python",
   "nbconvert_exporter": "python",
   "pygments_lexer": "ipython3",
   "version": "3.12.9"
  }
 },
 "nbformat": 4,
 "nbformat_minor": 5
}
