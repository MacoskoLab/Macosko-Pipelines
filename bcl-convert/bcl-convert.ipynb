{
 "cells": [
  {
   "cell_type": "code",
   "execution_count": 37,
   "id": "cbb3fb8d-8cad-45cd-a1bf-ae529a35d699",
   "metadata": {},
   "outputs": [],
   "source": [
    "import pandas as pd\n",
    "import glob\n",
    "import csv\n",
    "import os\n",
    "from os.path import basename"
   ]
  },
  {
   "cell_type": "code",
   "execution_count": 38,
   "id": "e99819b3-bece-4690-b822-90c4d2b1a898",
   "metadata": {},
   "outputs": [],
   "source": [
    "indexes_root = \"https://raw.githubusercontent.com/MacoskoLab/Macosko-Pipelines/main/bcl2fastq/indexes/\"\n",
    "NN = pd.read_csv(indexes_root+\"SI-NN.csv\")\n",
    "NT = pd.read_csv(indexes_root+\"SI-NT.csv\")\n",
    "TT = pd.read_csv(indexes_root+\"SI-TT.csv\")\n",
    "ND = pd.read_csv(indexes_root+\"ND7.csv\")"
   ]
  },
  {
   "cell_type": "code",
   "execution_count": 39,
   "id": "d8b53f21-8f9f-4102-8f51-1f9b67a1f10f",
   "metadata": {},
   "outputs": [],
   "source": [
    "def dict2df(indexes):\n",
    "    rows = []\n",
    "    assert type(indexes) == dict\n",
    "    for lane in sorted(indexes.keys()):\n",
    "        assert lane in [1,2,3,4,5,6,7,8]\n",
    "        assert type(indexes[lane])==list and len(indexes[lane])==len(set(indexes[lane]))\n",
    "        for index in indexes[lane]:\n",
    "            if index in ND[\"I7_Index_ID\"].values:\n",
    "                row = ND.loc[ND['I7_Index_ID'] == index]\n",
    "                seq1 = row[\"index\"].iloc[0]\n",
    "                rows.append([lane, index, seq1+\"AT\", \"ACCGAGATCT\"])\n",
    "            elif index in TT[\"index_name\"].values:\n",
    "                row = TT.loc[TT['index_name'] == index]\n",
    "                seq1 = row[\"index(i7)\"].iloc[0]\n",
    "                seq2 = row[\"index2_workflow_a(i5)\"].iloc[0]\n",
    "                rows.append([lane, index, seq1, seq2])\n",
    "            elif index in NT[\"index_name\"].values:\n",
    "                row = NT.loc[NT['index_name'] == index]\n",
    "                seq1 = row[\"index(i7)\"].iloc[0]\n",
    "                seq2 = row[\"index2_workflow_a(i5)\"].iloc[0]\n",
    "                rows.append([lane, index, seq1, seq2])\n",
    "            elif index in NN[\"index_name\"].values:\n",
    "                row = NN.loc[NN['index_name'] == index]\n",
    "                seq1 = row[\"index(i7)\"].iloc[0]\n",
    "                seq2 = row[\"index2_workflow_a(i5)\"].iloc[0]\n",
    "                rows.append([lane, index, seq1, seq2])\n",
    "            else:\n",
    "                raise IndexError(f\"ERROR: index {index} not found\")\n",
    "    \n",
    "    df = pd.DataFrame(rows, columns=['Lane', 'Sample_ID', 'index', 'index2'])\n",
    "\n",
    "    # If whole flowcell is 8bp, remove the buffer padding\n",
    "    if (df['index2'] == 'ACCGAGATCT').all():\n",
    "        df['index'] = df['index'].str[:8]\n",
    "        df['index2'] = df['index2'].str[:8]\n",
    "    \n",
    "    return df"
   ]
  },
  {
   "cell_type": "markdown",
   "id": "c7f1909c-e262-4217-ae5f-d6389e2bf1df",
   "metadata": {},
   "source": [
    "### Create Samplesheets"
   ]
  },
  {
   "cell_type": "code",
   "execution_count": 40,
   "id": "ac4e81a0-5a6d-4274-a2b7-3329bb013479",
   "metadata": {},
   "outputs": [],
   "source": [
    "# Naeem sample\n",
    "bcl = \"/broad/macosko_storage/macosko_lab_GP_depo/240808_SL-EXC_0341_A22CTCMLT4\"\n",
    "indexes = {6: [\"SI-TT-C8\"]}\n",
    "samplesheet = dict2df(indexes)\n",
    "cycles = [150,10,10,150]\n",
    "# FASTQ DONE"
   ]
  },
  {
   "cell_type": "code",
   "execution_count": 45,
   "id": "62fbcbb3-dc1a-4259-abb0-e144bb25bd4d",
   "metadata": {},
   "outputs": [],
   "source": [
    "# 1.2cm puck batch\n",
    "# https://docs.google.com/spreadsheets/d/1xD1IvMF-YEp7qE-9jpTyg_sjpNdURSBE1msZ8iLChq0\n",
    "bcl = \"/broad/macosko_storage/macosko_lab_GP_depo/240923_SL-EXH_0185_B22G7HYLT4\"\n",
    "indexes = {3:[\"D701\",\"D702\",\"D703\"],\n",
    "           4:[\"D704\",\"D705\",\"D706\",\"D707\"],\n",
    "           5:[\"D708\",\"D709\",\"D710\",\"D701\"]}\n",
    "samplesheet = dict2df(indexes)\n",
    "cycles = [160,10,10,158]\n",
    "# FASTQ DONE"
   ]
  },
  {
   "cell_type": "code",
   "execution_count": 50,
   "id": "378549b2-28a3-4589-a8b3-307343f46d50",
   "metadata": {},
   "outputs": [],
   "source": [
    "# White matter\n",
    "# https://docs.google.com/spreadsheets/d/1tFFn7R8b0z9EEUnoYaG8hk-vQK6OlG9YFg3Qmq2pey8?gid=906070385\n",
    "bcl = \"/broad/gpbican/mccarroll_bican_bcls/241002_SL-EXH_0192_A22NLKLLT3\"\n",
    "indexes = {i+1: [\"SI-TT-B9\", \"SI-TT-B10\", \"SI-TT-G3\", \"SI-TT-G4\"] for i in range(8)}\n",
    "samplesheet = dict2df(indexes)\n",
    "cycles = [28,10,10,90]\n",
    "# FASTQ DONE"
   ]
  },
  {
   "cell_type": "code",
   "execution_count": 55,
   "id": "da481bd5-e8bf-4b06-95c1-07aa69b54cdc",
   "metadata": {},
   "outputs": [],
   "source": [
    "# 2cm puck batch\n",
    "# https://docs.google.com/spreadsheets/d/1tFFn7R8b0z9EEUnoYaG8hk-vQK6OlG9YFg3Qmq2pey8?gid=978890763\n",
    "bcl = \"/broad/gpbican/mccarroll_bican_bcls/241018_SL-EXA_0332_B22VFMLLT3\"\n",
    "indexes = {i+1: [\"D703\", \"D704\", \"D705\", \"D706\"] for i in range(8)}\n",
    "samplesheet = dict2df(indexes)\n",
    "cycles = [50,10,10,90]\n",
    "# FASTQ DONE"
   ]
  },
  {
   "cell_type": "code",
   "execution_count": 60,
   "id": "9fff1c4d-9eda-4235-aadb-fd4e17895941",
   "metadata": {},
   "outputs": [],
   "source": [
    "# Calico LC\n",
    "# Macosko Sequencing Experiments - rows 2176-2183 - 22VFK7LT3\n",
    "bcl = \"/broad/macosko_storage/macosko_lab_GP_depo/241018_SL-EXA_0333_A22VFK7LT3\"\n",
    "indexes = {i+1: [\"SI-TT-C9\", \"SI-TT-C10\", \"SI-TT-E1\", \"SI-TT-E2\", \"SI-TT-E3\", \"SI-TT-E4\", \"SI-TT-E5\", \"SI-TT-E6\"] for i in range(8)}\n",
    "samplesheet = dict2df(indexes)\n",
    "cycles = [28,10,10,90]\n",
    "# FASTQ DONE"
   ]
  },
  {
   "cell_type": "markdown",
   "id": "8576f788-7d5e-4a10-af39-c12e848896d9",
   "metadata": {},
   "source": [
    "### Create Samplesheet"
   ]
  },
  {
   "cell_type": "code",
   "execution_count": 32,
   "id": "bffac082-bf70-4d4f-8f79-7eb0931c411e",
   "metadata": {},
   "outputs": [
    {
     "name": "stdout",
     "output_type": "stream",
     "text": [
      "/discopipeline/samplesheets/241018_SL-EXA_0333_A22VFK7LT3/SampleSheet.csv\n"
     ]
    }
   ],
   "source": [
    "assert len(samplesheet) == len(samplesheet.drop_duplicates())\n",
    "sheet_path = os.path.join(\"/\", \"discopipeline\", \"samplesheets\", basename(bcl), \"SampleSheet.csv\")\n",
    "print(sheet_path)"
   ]
  },
  {
   "cell_type": "code",
   "execution_count": 33,
   "id": "4b067858-beb7-4446-bac3-2f01e53b72dd",
   "metadata": {},
   "outputs": [],
   "source": [
    "# Write the file\n",
    "os.makedirs(os.path.dirname(sheet_path), exist_ok=True)\n",
    "with open(sheet_path, 'w') as f:\n",
    "    f.write(\"[Settings]\\n\")\n",
    "    f.write(\"CreateFastqForIndexReads,0\\n\") # default: 0\n",
    "    f.write(\"NoLaneSplitting,false\\n\") # default: false\n",
    "    i1len = len(samplesheet[\"index\"][0])\n",
    "    i2len = len(samplesheet[\"index2\"][0])\n",
    "    assert type(cycles) == list and all(type(c) == int for c in cycles) and len(cycles) == 4\n",
    "    assert cycles[0] > 0 and cycles[1] >= i1len and cycles[2] >= i2len and cycles[3] > 0\n",
    "    R1 = f\"Y{cycles[0]}\"\n",
    "    R2 = f\"I{i1len}\" + (\"\" if cycles[1]==i1len else f\"N{cycles[1]-i1len}\")\n",
    "    R3 = f\"I{i2len}\" + (\"\" if cycles[2]==i2len else f\"N{cycles[2]-i2len}\")\n",
    "    R4 = f\"Y{cycles[3]}\"\n",
    "    f.write(f\"OverrideCycles,{R1};{R2};{R3};{R4}\\n\")\n",
    "    f.write(\"\\n\")\n",
    "    \n",
    "    f.write(\"[Data]\\n\")\n",
    "samplesheet.to_csv(sheet_path, mode='a', index=False)"
   ]
  },
  {
   "cell_type": "code",
   "execution_count": 65,
   "id": "fdedcf1a-8090-4ea9-a334-5e2a18e18c0d",
   "metadata": {},
   "outputs": [],
   "source": [
    "# Make sure it looks good\n",
    "!cat {sheet_path}"
   ]
  },
  {
   "cell_type": "markdown",
   "id": "45ae1679-8deb-4adf-bdf9-6ed7f90fc800",
   "metadata": {},
   "source": [
    "### Run bcl-convert"
   ]
  },
  {
   "cell_type": "code",
   "execution_count": 35,
   "id": "a3b5aaff-6c47-42b3-918d-64aab2c18061",
   "metadata": {},
   "outputs": [
    {
     "name": "stdout",
     "output_type": "stream",
     "text": [
      "/broad/macosko_storage/macosko_lab_GP_depo/241018_SL-EXA_0333_A22VFK7LT3\n"
     ]
    }
   ],
   "source": [
    "print(bcl)"
   ]
  },
  {
   "cell_type": "code",
   "execution_count": 66,
   "id": "2357c6a8-8a33-4249-808e-88ad1733aeae",
   "metadata": {},
   "outputs": [],
   "source": [
    "root = \"/broad/macosko/data/discopipeline\"\n",
    "binary = \"/broad/macosko/data/discopipeline/software/bcl-convert-4.3.6-2.el8.x86_64/bin/bcl-convert\"\n",
    "srun = f\"srun -C RedHat8 -J bcl-convert-{basename(bcl)[-10:]} -c 32 --mem 96G --time 96:00:00\"\n",
    "params = f\"--bcl-input-directory={bcl} --output-directory={root}/fastqs/{basename(bcl)} --sample-sheet={root}/samplesheets/{basename(bcl)}/SampleSheet.csv\" # --strict-mode=true\n",
    "print(f\"{srun} {binary} {params}\")"
   ]
  },
  {
   "cell_type": "markdown",
   "id": "c6c6770e-863e-4051-a435-56ae882675fb",
   "metadata": {},
   "source": [
    "### Validate FASTQ sizes"
   ]
  },
  {
   "cell_type": "code",
   "execution_count": 61,
   "id": "fed43475-087e-40ee-a2df-881a71153d82",
   "metadata": {},
   "outputs": [
    {
     "name": "stdout",
     "output_type": "stream",
     "text": [
      "/discopipeline/fastqs/241018_SL-EXA_0333_A22VFK7LT3\n"
     ]
    }
   ],
   "source": [
    "fastq_path = f\"/discopipeline/fastqs/{basename(bcl)}\"\n",
    "print(fastq_path)"
   ]
  },
  {
   "cell_type": "code",
   "execution_count": 62,
   "id": "1a50e603-894e-4d6e-99ee-0c473283f484",
   "metadata": {},
   "outputs": [
    {
     "name": "stdout",
     "output_type": "stream",
     "text": [
      "/broad/macosko_storage/macosko_lab_GP_depo/241018_SL-EXA_0333_A22VFK7LT3\n",
      "1 SI-TT-C9 ['2.4G', '5.1G'] \n",
      "1 SI-TT-C10 ['1.4G', '3.0G'] \n",
      "1 SI-TT-E1 ['4.6G', '9.9G'] \n",
      "1 SI-TT-E2 ['5.6G', '13G'] \n",
      "1 SI-TT-E3 ['2.3G', '4.8G'] \n",
      "1 SI-TT-E4 ['5.4G', '12G'] \n",
      "1 SI-TT-E5 ['9.0G', '20G'] \n",
      "1 SI-TT-E6 ['4.8G', '11G'] \n",
      "2 SI-TT-C9 ['2.4G', '5.1G'] \n",
      "2 SI-TT-C10 ['1.5G', '3.0G'] \n",
      "2 SI-TT-E1 ['4.6G', '9.9G'] \n",
      "2 SI-TT-E2 ['5.6G', '12G'] \n",
      "2 SI-TT-E3 ['2.3G', '4.8G'] \n",
      "2 SI-TT-E4 ['5.4G', '12G'] \n",
      "2 SI-TT-E5 ['9.0G', '20G'] \n",
      "2 SI-TT-E6 ['4.8G', '11G'] \n",
      "3 SI-TT-C9 ['2.4G', '5.0G'] \n",
      "3 SI-TT-C10 ['1.4G', '3.0G'] \n",
      "3 SI-TT-E1 ['4.6G', '9.8G'] \n",
      "3 SI-TT-E2 ['5.6G', '12G'] \n",
      "3 SI-TT-E3 ['2.3G', '4.8G'] \n",
      "3 SI-TT-E4 ['5.4G', '12G'] \n",
      "3 SI-TT-E5 ['8.9G', '20G'] \n",
      "3 SI-TT-E6 ['4.8G', '11G'] \n",
      "4 SI-TT-C9 ['2.4G', '5.0G'] \n",
      "4 SI-TT-C10 ['1.5G', '3.0G'] \n",
      "4 SI-TT-E1 ['4.6G', '9.9G'] \n",
      "4 SI-TT-E2 ['5.6G', '13G'] \n",
      "4 SI-TT-E3 ['2.3G', '4.8G'] \n",
      "4 SI-TT-E4 ['5.4G', '12G'] \n",
      "4 SI-TT-E5 ['9.0G', '20G'] \n",
      "4 SI-TT-E6 ['4.8G', '11G'] \n",
      "5 SI-TT-C9 ['2.4G', '5.1G'] \n",
      "5 SI-TT-C10 ['1.5G', '3.0G'] \n",
      "5 SI-TT-E1 ['4.6G', '9.9G'] \n",
      "5 SI-TT-E2 ['5.6G', '12G'] \n",
      "5 SI-TT-E3 ['2.3G', '4.8G'] \n",
      "5 SI-TT-E4 ['5.4G', '12G'] \n",
      "5 SI-TT-E5 ['9.0G', '20G'] \n",
      "5 SI-TT-E6 ['4.8G', '11G'] \n",
      "6 SI-TT-C9 ['2.4G', '5.1G'] \n",
      "6 SI-TT-C10 ['1.5G', '3.0G'] \n",
      "6 SI-TT-E1 ['4.6G', '9.8G'] \n",
      "6 SI-TT-E2 ['5.5G', '12G'] \n",
      "6 SI-TT-E3 ['2.3G', '4.8G'] \n",
      "6 SI-TT-E4 ['5.4G', '12G'] \n",
      "6 SI-TT-E5 ['9.0G', '20G'] \n",
      "6 SI-TT-E6 ['4.7G', '11G'] \n",
      "7 SI-TT-C9 ['2.5G', '5.2G'] \n",
      "7 SI-TT-C10 ['1.5G', '3.1G'] \n",
      "7 SI-TT-E1 ['4.7G', '11G'] \n",
      "7 SI-TT-E2 ['5.7G', '13G'] \n",
      "7 SI-TT-E3 ['2.3G', '4.9G'] \n",
      "7 SI-TT-E4 ['5.5G', '12G'] \n",
      "7 SI-TT-E5 ['9.2G', '20G'] \n",
      "7 SI-TT-E6 ['4.9G', '11G'] \n",
      "8 SI-TT-C9 ['2.5G', '5.2G'] \n",
      "8 SI-TT-C10 ['1.5G', '3.1G'] \n",
      "8 SI-TT-E1 ['4.7G', '11G'] \n",
      "8 SI-TT-E2 ['5.7G', '13G'] \n",
      "8 SI-TT-E3 ['2.3G', '4.9G'] \n",
      "8 SI-TT-E4 ['5.6G', '12G'] \n",
      "8 SI-TT-E5 ['9.2G', '20G'] \n",
      "8 SI-TT-E6 ['5.1G', '11G'] \n"
     ]
    }
   ],
   "source": [
    "print(bcl)\n",
    "sizes = !du -sh {fastq_path}/*\n",
    "sizes = [size.split() for size in sizes]\n",
    "sizes = [(size[0], basename(size[1])) for size in sizes if size[1][-9:] == \".fastq.gz\"]\n",
    "# print(sizes)\n",
    "\n",
    "for lane in sorted(indexes.keys()):\n",
    "    for index in indexes[lane]:\n",
    "        res = [size[0] for size in sizes if f\"{index}_S\" in size[1] and f\"_L00{lane}_\" in size[1]]\n",
    "        warning = \"WARNING!!\" if any(\"B\" in s or \"K\" in s or \"M\" in s for s in res) or len(res) != 2 else \"\"\n",
    "        print(f\"{lane} {index} {res} {warning}\")"
   ]
  },
  {
   "cell_type": "markdown",
   "id": "348ef1d2-67c4-4dff-aa77-f7ed8a6df1b4",
   "metadata": {},
   "source": [
    "### Delete Undetermined FASTQs"
   ]
  },
  {
   "cell_type": "code",
   "execution_count": 67,
   "id": "e4f0a8ff-a505-4726-a44a-37457bd6fcd2",
   "metadata": {},
   "outputs": [],
   "source": [
    "# List the files\n",
    "files_to_delete = glob.glob(os.path.join(fastq_path, 'Undetermined_S0_*_001.fastq.gz'))\n",
    "[print(file) for file in files_to_delete];"
   ]
  },
  {
   "cell_type": "code",
   "execution_count": 64,
   "id": "2fe050da-23dc-4fa2-be9e-5bea4e80d74c",
   "metadata": {},
   "outputs": [],
   "source": [
    "# Delete each file\n",
    "[os.remove(file) for file in files_to_delete];"
   ]
  },
  {
   "cell_type": "markdown",
   "id": "30998443-7669-413c-9921-06f5e5fb62c3",
   "metadata": {},
   "source": [
    "### Documentation"
   ]
  },
  {
   "cell_type": "markdown",
   "id": "4d79cb7e-b7ce-4ff3-b53f-af7d3fd53ee5",
   "metadata": {},
   "source": [
    "https://support-docs.illumina.com/APP/AppBCLConvert_v2_0/Content/APP/SampleSheets_swBCL_swBS_appBCL.htm\n",
    "https://knowledge.illumina.com/software/general/software-general-reference_material-list/000008935\n",
    "https://knowledge.illumina.com/software/general/software-general-reference_material-list/000003710"
   ]
  },
  {
   "cell_type": "markdown",
   "id": "c0d366c5-cfbc-4d39-8423-4bcc11107876",
   "metadata": {},
   "source": [
    "### Other commands"
   ]
  },
  {
   "cell_type": "code",
   "execution_count": 111,
   "id": "99500a35-97c3-47aa-b64a-8c10dcca3b4d",
   "metadata": {},
   "outputs": [
    {
     "name": "stdout",
     "output_type": "stream",
     "text": [
      "less /broad/macosko_storage/macosko_lab_GP_depo/241018_SL-EXA_0333_A22VFK7LT3/RunInfo.xml\n"
     ]
    }
   ],
   "source": [
    "print(f\"less {os.path.join(bcl,'RunInfo.xml')}\")"
   ]
  }
 ],
 "metadata": {
  "kernelspec": {
   "display_name": "Python 3 (ipykernel)",
   "language": "python",
   "name": "python3"
  },
  "language_info": {
   "codemirror_mode": {
    "name": "ipython",
    "version": 3
   },
   "file_extension": ".py",
   "mimetype": "text/x-python",
   "name": "python",
   "nbconvert_exporter": "python",
   "pygments_lexer": "ipython3",
   "version": "3.12.7"
  }
 },
 "nbformat": 4,
 "nbformat_minor": 5
}
